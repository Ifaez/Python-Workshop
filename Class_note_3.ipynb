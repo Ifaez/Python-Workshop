{
  "nbformat": 4,
  "nbformat_minor": 0,
  "metadata": {
    "colab": {
      "provenance": []
    },
    "kernelspec": {
      "name": "python3",
      "display_name": "Python 3"
    },
    "language_info": {
      "name": "python"
    }
  },
  "cells": [
    {
      "cell_type": "code",
      "execution_count": null,
      "metadata": {
        "colab": {
          "base_uri": "https://localhost:8080/"
        },
        "id": "dPkXJsThT3IV",
        "outputId": "c163d2c5-b10d-44c7-9b98-0d4d6ce592a7"
      },
      "outputs": [
        {
          "output_type": "stream",
          "name": "stdout",
          "text": [
            "('Peach', 'Jackfruit', 'Mango')\n"
          ]
        }
      ],
      "source": [
        "#tuples\n",
        "first_tuple = (\"Peach\", \"Jackfruit\", \"Mango\")\n",
        "print(first_tuple)"
      ]
    },
    {
      "cell_type": "code",
      "source": [
        "print(len(first_tuple))"
      ],
      "metadata": {
        "colab": {
          "base_uri": "https://localhost:8080/"
        },
        "id": "EWEMKB-zWGui",
        "outputId": "d6a244aa-1e68-4ebb-813d-31fbc55d4107"
      },
      "execution_count": null,
      "outputs": [
        {
          "output_type": "stream",
          "name": "stdout",
          "text": [
            "3\n"
          ]
        }
      ]
    },
    {
      "cell_type": "code",
      "source": [
        "print(type(first_tuple))"
      ],
      "metadata": {
        "colab": {
          "base_uri": "https://localhost:8080/"
        },
        "id": "tVXum7AxWMDY",
        "outputId": "d8edbdb2-d154-4f95-fa94-fe283b208912"
      },
      "execution_count": null,
      "outputs": [
        {
          "output_type": "stream",
          "name": "stdout",
          "text": [
            "<class 'tuple'>\n"
          ]
        }
      ]
    },
    {
      "cell_type": "code",
      "source": [
        "#Condtional statements\n",
        "\n",
        "item_1 = input(\"Please input something: \")\n",
        "\n",
        "if item_1 in first_tuple:\n",
        "  print(\"The fruit is here\")\n",
        "else:\n",
        "  print(\"The fruit is not here.\")"
      ],
      "metadata": {
        "colab": {
          "base_uri": "https://localhost:8080/"
        },
        "id": "o1iVtrv3WQix",
        "outputId": "1d1ec096-a552-41b5-8e6f-9a14f4219cc2"
      },
      "execution_count": null,
      "outputs": [
        {
          "output_type": "stream",
          "name": "stdout",
          "text": [
            "Please input something: Grape\n",
            "The fruit is not here.\n"
          ]
        }
      ]
    },
    {
      "cell_type": "code",
      "source": [
        "#Converting a tuple into a list\n",
        "x = (\"lobster\", \"steak\", \"mashed potato\", \"rice\")\n",
        "y = list(x)\n",
        "print(y[1])"
      ],
      "metadata": {
        "colab": {
          "base_uri": "https://localhost:8080/"
        },
        "id": "wzlzvhksW7aI",
        "outputId": "b3c18d82-1bde-491a-97b8-c8e4b10d8e91"
      },
      "execution_count": null,
      "outputs": [
        {
          "output_type": "stream",
          "name": "stdout",
          "text": [
            "steak\n"
          ]
        }
      ]
    },
    {
      "cell_type": "code",
      "source": [
        "#Addition to the tuple\n",
        "y.append(\"vegetables\")\n",
        "print(y)"
      ],
      "metadata": {
        "colab": {
          "base_uri": "https://localhost:8080/"
        },
        "id": "A91N8KMCXX4Y",
        "outputId": "690feba6-fef2-451e-c357-e49eb9a5964a"
      },
      "execution_count": null,
      "outputs": [
        {
          "output_type": "stream",
          "name": "stdout",
          "text": [
            "['salad', 'chicken fry', 'mashed potato', 'rice', 'vegetables']\n"
          ]
        }
      ]
    },
    {
      "cell_type": "code",
      "source": [
        "y_2 = (\"deserts\", \"sweet items\")\n",
        "x += y_2\n",
        "print(x)"
      ],
      "metadata": {
        "colab": {
          "base_uri": "https://localhost:8080/"
        },
        "id": "qEGzI7KYYJfN",
        "outputId": "878a50ee-1c33-48d6-fe7f-0360bf20a194"
      },
      "execution_count": null,
      "outputs": [
        {
          "output_type": "stream",
          "name": "stdout",
          "text": [
            "('lobster', 'steak', 'mashed potato', 'rice', 'deserts', 'sweet items')\n"
          ]
        }
      ]
    },
    {
      "cell_type": "code",
      "source": [
        "#Unpacking in Tuples\n",
        "\"\"\"\n",
        "A process of clearly identifying an exact object in the dataset through exact position\n",
        "\"\"\"\n",
        "(y_1, y_2, y_3, y_4, y_5, y_6) = x\n",
        "print(y_3)\n",
        "print(y_5)"
      ],
      "metadata": {
        "colab": {
          "base_uri": "https://localhost:8080/"
        },
        "id": "0XuBKaCsZToB",
        "outputId": "d69c5598-a1d4-42f0-a446-c10a19dfd2bc"
      },
      "execution_count": null,
      "outputs": [
        {
          "output_type": "stream",
          "name": "stdout",
          "text": [
            "mashed potato\n",
            "deserts\n"
          ]
        }
      ]
    },
    {
      "cell_type": "code",
      "source": [
        "x = ['Coleselaw', 'steak', 'mashed potato', 'rice', 'deserts', 'Cake']\n",
        "(k_1, k_2, *k_3, k_4) = x\n",
        "print(k_1)\n",
        "print(k_3)"
      ],
      "metadata": {
        "colab": {
          "base_uri": "https://localhost:8080/"
        },
        "id": "69kRVECqceVR",
        "outputId": "111d53bf-35e1-4841-a884-d5b0352f31e5"
      },
      "execution_count": null,
      "outputs": [
        {
          "output_type": "stream",
          "name": "stdout",
          "text": [
            "Coleselaw\n",
            "['mashed potato', 'rice', 'deserts']\n"
          ]
        }
      ]
    },
    {
      "cell_type": "code",
      "source": [
        "#Looping process\n",
        "for i in x:\n",
        "  print(x)"
      ],
      "metadata": {
        "colab": {
          "base_uri": "https://localhost:8080/"
        },
        "id": "kY6OksAidUvD",
        "outputId": "4debbbea-0aee-4b2f-cfa5-be1ee31a9323"
      },
      "execution_count": null,
      "outputs": [
        {
          "output_type": "stream",
          "name": "stdout",
          "text": [
            "['Coleselaw', 'steak', 'mashed potato', 'rice', 'deserts', 'Cake']\n",
            "['Coleselaw', 'steak', 'mashed potato', 'rice', 'deserts', 'Cake']\n",
            "['Coleselaw', 'steak', 'mashed potato', 'rice', 'deserts', 'Cake']\n",
            "['Coleselaw', 'steak', 'mashed potato', 'rice', 'deserts', 'Cake']\n",
            "['Coleselaw', 'steak', 'mashed potato', 'rice', 'deserts', 'Cake']\n",
            "['Coleselaw', 'steak', 'mashed potato', 'rice', 'deserts', 'Cake']\n"
          ]
        }
      ]
    },
    {
      "cell_type": "code",
      "source": [
        "#Looping indexing\n",
        "for m in range(len(x)):\n",
        "  print(x[m])"
      ],
      "metadata": {
        "colab": {
          "base_uri": "https://localhost:8080/"
        },
        "id": "dXiATdzwfcfY",
        "outputId": "81b5ab59-f77c-4adc-80e7-a046248f9977"
      },
      "execution_count": null,
      "outputs": [
        {
          "output_type": "stream",
          "name": "stdout",
          "text": [
            "Coleselaw\n",
            "steak\n",
            "mashed potato\n",
            "rice\n",
            "deserts\n",
            "Cake\n"
          ]
        }
      ]
    },
    {
      "cell_type": "code",
      "source": [
        "i = 0\n",
        "\n",
        "while i < len(x):\n",
        "  print(x[i])\n",
        "  i += 1"
      ],
      "metadata": {
        "colab": {
          "base_uri": "https://localhost:8080/"
        },
        "id": "2KHC3hh1gh9O",
        "outputId": "91f1abbd-0a84-4ce9-bc55-fdec10ec0ebc"
      },
      "execution_count": null,
      "outputs": [
        {
          "output_type": "stream",
          "name": "stdout",
          "text": [
            "Coleselaw\n",
            "steak\n",
            "mashed potato\n",
            "rice\n",
            "deserts\n",
            "Cake\n"
          ]
        }
      ]
    },
    {
      "cell_type": "code",
      "source": [
        "#Adding tuples\n",
        "tuple_1 = (\"a\", \"b\", \"c\")\n",
        "tuple_2 = (1, 2, 3)\n",
        "tuple_3 = tuple_1 + tuple_2\n",
        "print(tuple_3)"
      ],
      "metadata": {
        "colab": {
          "base_uri": "https://localhost:8080/"
        },
        "id": "h3pf4vGFfvj9",
        "outputId": "f1539770-1282-4f62-d223-03d482dfcd12"
      },
      "execution_count": null,
      "outputs": [
        {
          "output_type": "stream",
          "name": "stdout",
          "text": [
            "('a', 'b', 'c', 1, 2, 3)\n"
          ]
        }
      ]
    },
    {
      "cell_type": "code",
      "source": [
        "#Sets\n",
        "set_1 = {'Coleselaw', 'steak', 'mashed potato', 'rice', 'mushrooms' 'deserts', 'Cake'}\n",
        "print(set_1)"
      ],
      "metadata": {
        "colab": {
          "base_uri": "https://localhost:8080/"
        },
        "id": "4q4pviqWi7Ae",
        "outputId": "f3b93558-ffd2-492a-c7aa-e50ee9cbbac5"
      },
      "execution_count": null,
      "outputs": [
        {
          "output_type": "stream",
          "name": "stdout",
          "text": [
            "{'steak', 'mushroomsdeserts', 'rice', 'Cake', 'Coleselaw', 'mashed potato'}\n"
          ]
        }
      ]
    },
    {
      "cell_type": "code",
      "source": [
        "for i in set_1:\n",
        "  print(i)"
      ],
      "metadata": {
        "colab": {
          "base_uri": "https://localhost:8080/"
        },
        "id": "3-jzcYR9jeTE",
        "outputId": "5a49b0de-9977-4b95-92e4-29b7e6f536a0"
      },
      "execution_count": null,
      "outputs": [
        {
          "output_type": "stream",
          "name": "stdout",
          "text": [
            "steak\n",
            "mushroomsdeserts\n",
            "rice\n",
            "Cake\n",
            "Coleselaw\n",
            "mashed potato\n"
          ]
        }
      ]
    },
    {
      "cell_type": "code",
      "source": [
        "item = input(\"Enter your query: \")\n",
        "\n",
        "if item in set_1:\n",
        "  print(\"Desired item is there.\")\n",
        "else:\n",
        "  print(\"Desired item is not there.\")"
      ],
      "metadata": {
        "colab": {
          "base_uri": "https://localhost:8080/"
        },
        "id": "vk2e-XoOf44P",
        "outputId": "ec2ee4e4-7727-4933-e1b5-9b0b65493489"
      },
      "execution_count": 47,
      "outputs": [
        {
          "output_type": "stream",
          "name": "stdout",
          "text": [
            "Enter your query: steak\n",
            "Desired item is there.\n"
          ]
        }
      ]
    },
    {
      "cell_type": "code",
      "source": [
        "set_1.add(\"fruit salad\")\n",
        "set_1.remove(\"fruit salad\")\n",
        "print(set_1)"
      ],
      "metadata": {
        "colab": {
          "base_uri": "https://localhost:8080/"
        },
        "id": "7wknjmjTk4V-",
        "outputId": "874cd0b1-7459-413e-a7b0-cdf15d31387f"
      },
      "execution_count": 30,
      "outputs": [
        {
          "output_type": "stream",
          "name": "stdout",
          "text": [
            "{'rice', 'mashed potato', 'steak', 'mushroomsdeserts', 'Hard Drinks', 'chips', 'Cake', 'Coleselaw', 'chocolates', 'starters'}\n"
          ]
        }
      ]
    },
    {
      "cell_type": "code",
      "source": [
        "set_2 = {\"Hard Drinks\", \"starters\", \"chips\", \"chocolates\"}\n",
        "set_1.update(set_2)\n",
        "print(set_1)"
      ],
      "metadata": {
        "colab": {
          "base_uri": "https://localhost:8080/"
        },
        "id": "H2dLT6lplMqM",
        "outputId": "fef5bbff-eccd-4120-e67e-abdee176df64"
      },
      "execution_count": 31,
      "outputs": [
        {
          "output_type": "stream",
          "name": "stdout",
          "text": [
            "{'rice', 'mashed potato', 'steak', 'mushroomsdeserts', 'Hard Drinks', 'chips', 'Cake', 'Coleselaw', 'chocolates', 'starters'}\n"
          ]
        }
      ]
    },
    {
      "cell_type": "code",
      "source": [
        "#Finding the common grade between two grades\n",
        "grade_1 = {84, 56, 48, 35, 32, 34, 25}\n",
        "grade_2 = {25, 26, 21, 27, 35, 40, 37}\n",
        "grade_1.intersection_update(grade_2)\n",
        "print(grade_1)"
      ],
      "metadata": {
        "colab": {
          "base_uri": "https://localhost:8080/"
        },
        "id": "5Ih2kaa_mU22",
        "outputId": "d1dd0441-27a5-4bdc-de26-29dbfc25074e"
      },
      "execution_count": 33,
      "outputs": [
        {
          "output_type": "stream",
          "name": "stdout",
          "text": [
            "{25, 35}\n"
          ]
        }
      ]
    },
    {
      "cell_type": "code",
      "source": [
        "common_grade = grade_1.intersection(grade_2)\n",
        "print(common_grade)"
      ],
      "metadata": {
        "colab": {
          "base_uri": "https://localhost:8080/"
        },
        "id": "GZphCjkbnmSW",
        "outputId": "0b026dda-2598-4de6-e6a9-8c3acfe66f3e"
      },
      "execution_count": 34,
      "outputs": [
        {
          "output_type": "stream",
          "name": "stdout",
          "text": [
            "{25, 35}\n"
          ]
        }
      ]
    },
    {
      "cell_type": "code",
      "source": [
        "uncommon_grade = grade_1.symmetric_difference(grade_2)\n",
        "print(uncommon_grade)"
      ],
      "metadata": {
        "colab": {
          "base_uri": "https://localhost:8080/"
        },
        "id": "D5B-VwthoYXU",
        "outputId": "01892536-005e-4f1a-e526-a27213a85036"
      },
      "execution_count": 35,
      "outputs": [
        {
          "output_type": "stream",
          "name": "stdout",
          "text": [
            "{37, 21, 40, 26, 27}\n"
          ]
        }
      ]
    },
    {
      "cell_type": "code",
      "source": [
        "# Nested Dictionaries\n",
        "\n",
        "total_dict = {\n",
        "  \"dict_1\" : {\n",
        "    \"name\" : \"Ifaez\",\n",
        "    \"cgpa\" : 3.74,\n",
        "    \"year\" : 2023,\n",
        "    \"type\" : \"STEM\",\n",
        "    \"quality_publication\" : 0,\n",
        "    \"programming_knowledge\": 2,\n",
        "    \"professional_cert\": 0,\n",
        "    \"entrance_exam\": 0\n",
        "},\n",
        "  \"dict_2\" : {\n",
        "      \"name\": \"Yilun\",\n",
        "      \"cgpa\": 3.94,\n",
        "      \"year\": 2018,\n",
        "      \"type\": \"STEM\",\n",
        "      \"quality_publication\": 23,\n",
        "      \"programming_Knowledge\": 11,\n",
        "      \"professional_cert\": 7,\n",
        "      \"entrance_exam\": 5\n",
        "  }\n",
        "}\n",
        "print(total_dict)"
      ],
      "metadata": {
        "colab": {
          "base_uri": "https://localhost:8080/"
        },
        "id": "aX8fqF-Fn840",
        "outputId": "ecdb806d-63d8-4ff0-a687-a785d0da08ab"
      },
      "execution_count": 36,
      "outputs": [
        {
          "output_type": "stream",
          "name": "stdout",
          "text": [
            "{'dict_1': {'name': 'Ifaez', 'cgpa': 3.74, 'year': 2023, 'type': 'STEM', 'quality_publication': 0, 'programming_knowledge': 2, 'professional_cert': 0, 'entrance_exam': 0}, 'dict_2': {'name': 'Yilun', 'cgpa': 3.94, 'year': 2018, 'type': 'STEM', 'quality_publication': 23, 'programming_Knowledge': 11, 'professional_cert': 7, 'entrance_exam': 5}}\n"
          ]
        }
      ]
    },
    {
      "cell_type": "code",
      "source": [
        "dict_1 = {\n",
        "    \"name\" : \"Ifaez\",\n",
        "    \"cgpa\" : 3.74,\n",
        "    \"year\" : 2023,\n",
        "    \"type\" : \"STEM\",\n",
        "    \"quality_publication\" : 0,\n",
        "    \"programming_knowledge\": 2,\n",
        "    \"professional_cert\": 0,\n",
        "    \"entrance_exam\": 0\n",
        "}\n",
        "t = dict_1.get(\"cgpa\")\n",
        "print(t)"
      ],
      "metadata": {
        "colab": {
          "base_uri": "https://localhost:8080/"
        },
        "id": "Z013mS-urwJF",
        "outputId": "f7cbe59f-2130-47f6-9a95-8bf27bce3eb2"
      },
      "execution_count": 37,
      "outputs": [
        {
          "output_type": "stream",
          "name": "stdout",
          "text": [
            "3.74\n"
          ]
        }
      ]
    },
    {
      "cell_type": "code",
      "source": [
        "t_1 = dict_1.keys()\n",
        "print(t_1)"
      ],
      "metadata": {
        "colab": {
          "base_uri": "https://localhost:8080/"
        },
        "id": "EwTLpezbsRMs",
        "outputId": "b35bca44-f227-4989-85d0-04b3456b786a"
      },
      "execution_count": 38,
      "outputs": [
        {
          "output_type": "stream",
          "name": "stdout",
          "text": [
            "dict_keys(['name', 'cgpa', 'year', 'type', 'quality_publication', 'programming_knowledge', 'professional_cert', 'entrance_exam'])\n"
          ]
        }
      ]
    },
    {
      "cell_type": "code",
      "source": [
        "dict_1[\"experience\"] = 3\n",
        "print(dict_1)"
      ],
      "metadata": {
        "colab": {
          "base_uri": "https://localhost:8080/"
        },
        "id": "yGeG1LZjsgBz",
        "outputId": "ed02c0c2-e465-4ebb-9387-4af6eeab6598"
      },
      "execution_count": 39,
      "outputs": [
        {
          "output_type": "stream",
          "name": "stdout",
          "text": [
            "{'name': 'Ifaez', 'cgpa': 3.74, 'year': 2023, 'type': 'STEM', 'quality_publication': 0, 'programming_knowledge': 2, 'professional_cert': 0, 'entrance_exam': 0, 'experience': 3}\n"
          ]
        }
      ]
    },
    {
      "cell_type": "code",
      "source": [
        "t_3 = dict_1.values()\n",
        "print(t_3)"
      ],
      "metadata": {
        "colab": {
          "base_uri": "https://localhost:8080/"
        },
        "id": "ZwlMHZ2zs90k",
        "outputId": "499f4966-df33-4b8e-d61e-cdaf14b099d1"
      },
      "execution_count": 40,
      "outputs": [
        {
          "output_type": "stream",
          "name": "stdout",
          "text": [
            "dict_values(['Ifaez', 3.74, 2023, 'STEM', 0, 2, 0, 0, 3])\n"
          ]
        }
      ]
    },
    {
      "cell_type": "code",
      "source": [
        "dict_1[\"cgpa\"] = 3.75\n",
        "print(dict_1)"
      ],
      "metadata": {
        "colab": {
          "base_uri": "https://localhost:8080/"
        },
        "id": "3ZYz3mi7tZyS",
        "outputId": "3d58d2fe-5414-49a6-e381-0956211e9550"
      },
      "execution_count": 41,
      "outputs": [
        {
          "output_type": "stream",
          "name": "stdout",
          "text": [
            "{'name': 'Ifaez', 'cgpa': 3.75, 'year': 2023, 'type': 'STEM', 'quality_publication': 0, 'programming_knowledge': 2, 'professional_cert': 0, 'entrance_exam': 0, 'experience': 3}\n"
          ]
        }
      ]
    },
    {
      "cell_type": "code",
      "source": [
        "t_4 = dict_1.items()\n",
        "print(t_4)"
      ],
      "metadata": {
        "colab": {
          "base_uri": "https://localhost:8080/"
        },
        "id": "niuPSCo-tmxG",
        "outputId": "72c1b652-5157-451a-fa43-49e56bcc377e"
      },
      "execution_count": null,
      "outputs": [
        {
          "output_type": "stream",
          "name": "stdout",
          "text": [
            "dict_items([('name', 'Hasan'), ('cgpa', 3.75), ('year', 2018), ('type', 'STEM'), ('quality_publication', 2), ('programming_knowledge', 5), ('professional_cert', 2), ('entrance_exam', 1), ('experience', 3)])\n"
          ]
        }
      ]
    },
    {
      "cell_type": "code",
      "source": [
        "f_1 = input(\"Enter a desired condition: \")\n",
        "\n",
        "if f_1 in dict_1:\n",
        "  print(\"Effective condition.\")\n",
        "else:\n",
        "  print(\"Undesirable condition.\")"
      ],
      "metadata": {
        "colab": {
          "base_uri": "https://localhost:8080/"
        },
        "id": "shYo1Ul0t8gX",
        "outputId": "60ae4968-3e94-46dd-9510-745512ec556e"
      },
      "execution_count": null,
      "outputs": [
        {
          "output_type": "stream",
          "name": "stdout",
          "text": [
            "Enter a desired condition: entrance_exam\n",
            "Effective condition.\n"
          ]
        }
      ]
    },
    {
      "cell_type": "code",
      "source": [
        "for x in dict_1:\n",
        "  print(x)"
      ],
      "metadata": {
        "colab": {
          "base_uri": "https://localhost:8080/"
        },
        "id": "opVeAM2cvEjB",
        "outputId": "9dff2674-5888-4eb0-d31b-d332216e894e"
      },
      "execution_count": 42,
      "outputs": [
        {
          "output_type": "stream",
          "name": "stdout",
          "text": [
            "name\n",
            "cgpa\n",
            "year\n",
            "type\n",
            "quality_publication\n",
            "programming_knowledge\n",
            "professional_cert\n",
            "entrance_exam\n",
            "experience\n"
          ]
        }
      ]
    },
    {
      "cell_type": "code",
      "source": [
        "for i in dict_1.values():\n",
        "  print(i)"
      ],
      "metadata": {
        "colab": {
          "base_uri": "https://localhost:8080/"
        },
        "id": "-2cVaR9wvymB",
        "outputId": "85ebdd2e-4c14-4a80-d711-e4382f5024cf"
      },
      "execution_count": 43,
      "outputs": [
        {
          "output_type": "stream",
          "name": "stdout",
          "text": [
            "Ifaez\n",
            "3.75\n",
            "2023\n",
            "STEM\n",
            "0\n",
            "2\n",
            "0\n",
            "0\n",
            "3\n"
          ]
        }
      ]
    },
    {
      "cell_type": "code",
      "source": [
        "for m, n in dict_1.items():\n",
        "  print(m, n)"
      ],
      "metadata": {
        "colab": {
          "base_uri": "https://localhost:8080/"
        },
        "id": "_ynk1TK1wKgq",
        "outputId": "b211a7a6-be2e-4b7f-b082-76574c48df26"
      },
      "execution_count": 44,
      "outputs": [
        {
          "output_type": "stream",
          "name": "stdout",
          "text": [
            "name Ifaez\n",
            "cgpa 3.75\n",
            "year 2023\n",
            "type STEM\n",
            "quality_publication 0\n",
            "programming_knowledge 2\n",
            "professional_cert 0\n",
            "entrance_exam 0\n",
            "experience 3\n"
          ]
        }
      ]
    }
  ]
}