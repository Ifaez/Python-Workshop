{
  "nbformat": 4,
  "nbformat_minor": 0,
  "metadata": {
    "colab": {
      "provenance": [],
      "include_colab_link": true
    },
    "kernelspec": {
      "name": "python3",
      "display_name": "Python 3"
    },
    "language_info": {
      "name": "python"
    }
  },
  "cells": [
    {
      "cell_type": "markdown",
      "metadata": {
        "id": "view-in-github",
        "colab_type": "text"
      },
      "source": [
        "<a href=\"https://colab.research.google.com/github/Ifaez/Python-Workshop/blob/Class-notes/Class_Note_2.ipynb\" target=\"_parent\"><img src=\"https://colab.research.google.com/assets/colab-badge.svg\" alt=\"Open In Colab\"/></a>"
      ]
    },
    {
      "cell_type": "code",
      "execution_count": null,
      "metadata": {
        "colab": {
          "base_uri": "https://localhost:8080/"
        },
        "id": "m3fUsJCOM9KI",
        "outputId": "a7684852-3af4-46ee-bb45-419a4a651fd6"
      },
      "outputs": [
        {
          "output_type": "stream",
          "name": "stdout",
          "text": [
            "True\n"
          ]
        }
      ],
      "source": [
        "####Class 2####\n",
        "\n",
        "# Boolean Operators\n",
        "a = 10\n",
        "b = 9\n",
        "print(a > b)"
      ]
    },
    {
      "cell_type": "code",
      "source": [
        "c = 11\n",
        "d = 12\n",
        "print(c == d)"
      ],
      "metadata": {
        "colab": {
          "base_uri": "https://localhost:8080/"
        },
        "id": "ydxaXt6jNxzU",
        "outputId": "e93d0c34-049b-453e-e6db-606070b55575"
      },
      "execution_count": null,
      "outputs": [
        {
          "output_type": "stream",
          "name": "stdout",
          "text": [
            "False\n"
          ]
        }
      ]
    },
    {
      "cell_type": "code",
      "source": [
        "e = \"he is a bad boy\"\n",
        "f = \"he is a good boy\"\n",
        "print(e == f)"
      ],
      "metadata": {
        "colab": {
          "base_uri": "https://localhost:8080/"
        },
        "id": "qbMDt-dlOAXg",
        "outputId": "d22134ce-10c0-4532-e52d-60d6a7dceb34"
      },
      "execution_count": null,
      "outputs": [
        {
          "output_type": "stream",
          "name": "stdout",
          "text": [
            "False\n"
          ]
        }
      ]
    },
    {
      "cell_type": "code",
      "source": [
        "x = input(\"Enter a number: \")\n",
        "y = input(\"Enter another number: \")\n",
        "\n",
        "if x > y:\n",
        "  print(\"X is greater than Y.\")\n",
        "elif x < y:\n",
        "  print(\"Y is greater than X.\")\n",
        "elif x == y:\n",
        "  print(\"x is equal to Y\")\n",
        "else:\n",
        "  print(\"Wrong Input.\")"
      ],
      "metadata": {
        "colab": {
          "base_uri": "https://localhost:8080/"
        },
        "id": "CGgDBx6SOtgp",
        "outputId": "7499cfdc-ae2d-4e1a-d1c2-493aa077ede5"
      },
      "execution_count": null,
      "outputs": [
        {
          "output_type": "stream",
          "name": "stdout",
          "text": [
            "Enter a number: 23\n",
            "Enter another number: 23\n",
            "x is equal to Y\n"
          ]
        }
      ]
    },
    {
      "cell_type": "code",
      "source": [
        "alphabet = [\"f\", \"d\", \"a\", \"b\", \"k\", \"e\"]\n",
        "alphabet.sort(reverse = True)\n",
        "print(alphabet)"
      ],
      "metadata": {
        "colab": {
          "base_uri": "https://localhost:8080/"
        },
        "id": "Xqyimy4YSWZA",
        "outputId": "326ac043-b8ec-4dc1-af0a-43a1a4e23996"
      },
      "execution_count": null,
      "outputs": [
        {
          "output_type": "stream",
          "name": "stdout",
          "text": [
            "['k', 'f', 'e', 'd', 'b', 'a']\n"
          ]
        }
      ]
    },
    {
      "cell_type": "code",
      "source": [
        "a_1 = 0\n",
        "a_2 = \"hello\"\n",
        "a_3 = True\n",
        "print(bool(a_1))\n",
        "print(bool(a_2))\n",
        "print(bool(a_3))"
      ],
      "metadata": {
        "colab": {
          "base_uri": "https://localhost:8080/"
        },
        "id": "UG7eShzVUbZ4",
        "outputId": "937ae461-8df7-44cb-c0c8-e00b3a8b4a9b"
      },
      "execution_count": null,
      "outputs": [
        {
          "output_type": "stream",
          "name": "stdout",
          "text": [
            "False\n",
            "True\n",
            "True\n"
          ]
        }
      ]
    },
    {
      "cell_type": "code",
      "source": [
        "print(type(alphabet))"
      ],
      "metadata": {
        "colab": {
          "base_uri": "https://localhost:8080/"
        },
        "id": "SBso59VZVafa",
        "outputId": "9d879e20-554f-4ba3-9fff-e30e20bee82e"
      },
      "execution_count": null,
      "outputs": [
        {
          "output_type": "stream",
          "name": "stdout",
          "text": [
            "<class 'list'>\n"
          ]
        }
      ]
    },
    {
      "cell_type": "code",
      "source": [
        "#Object oriented programming\n",
        "class my_class():\n",
        "  def _init_(self):\n",
        "    return 23\n",
        "\n",
        "my_obj = my_class()\n",
        "print(bool(my_obj))\n",
        "\n",
        "# Over here the job of the function is to give a value and test if there is a completion of the function"
      ],
      "metadata": {
        "colab": {
          "base_uri": "https://localhost:8080/"
        },
        "id": "649QpJyCV1eb",
        "outputId": "d0b6d8c9-1c39-4d8b-fcc3-ae4fd706d855"
      },
      "execution_count": null,
      "outputs": [
        {
          "output_type": "stream",
          "name": "stdout",
          "text": [
            "True\n"
          ]
        }
      ]
    },
    {
      "cell_type": "code",
      "source": [
        "# Boolean with function\n",
        "a = 5\n",
        "b = 6.5\n",
        "\n",
        "def any_function():\n",
        "  return a + b\n",
        "print(any_function())"
      ],
      "metadata": {
        "colab": {
          "base_uri": "https://localhost:8080/"
        },
        "id": "p380EGNDZqbB",
        "outputId": "0345aaf0-f969-48a2-f76d-7dafe5e98da6"
      },
      "execution_count": null,
      "outputs": [
        {
          "output_type": "stream",
          "name": "stdout",
          "text": [
            "11.5\n"
          ]
        }
      ]
    },
    {
      "cell_type": "code",
      "source": [
        "a = 5.2\n",
        "\n",
        "def any_function():\n",
        "  return a\n",
        "\n",
        "if any_function():\n",
        "  print(\"yes\")\n",
        "else:\n",
        "  print(\"no\")"
      ],
      "metadata": {
        "colab": {
          "base_uri": "https://localhost:8080/"
        },
        "id": "cnnHZlq3baMB",
        "outputId": "40ed4e9a-91f1-4d3f-f062-37d5132907ce"
      },
      "execution_count": null,
      "outputs": [
        {
          "output_type": "stream",
          "name": "stdout",
          "text": [
            "yes\n"
          ]
        }
      ]
    },
    {
      "cell_type": "code",
      "source": [
        "#Lists\n",
        "fruit_list = [\"Grape\", \"Peach\", \"mango\", \"Pineapple\", \"guava\", \"banana\"]\n",
        "print(type(fruit_list))"
      ],
      "metadata": {
        "colab": {
          "base_uri": "https://localhost:8080/"
        },
        "id": "0-mOCEPPeWGn",
        "outputId": "103a9194-e2a0-4b25-bd43-f70e2bf7824f"
      },
      "execution_count": null,
      "outputs": [
        {
          "output_type": "stream",
          "name": "stdout",
          "text": [
            "<class 'list'>\n"
          ]
        }
      ]
    },
    {
      "cell_type": "code",
      "source": [
        "print(len(fruit_list))"
      ],
      "metadata": {
        "colab": {
          "base_uri": "https://localhost:8080/"
        },
        "id": "CgOxmFyHfHNd",
        "outputId": "c246587f-9d06-4f0c-f4a5-816a94ce9ad9"
      },
      "execution_count": null,
      "outputs": [
        {
          "output_type": "stream",
          "name": "stdout",
          "text": [
            "6\n"
          ]
        }
      ]
    },
    {
      "cell_type": "code",
      "source": [
        "print(fruit_list[0])"
      ],
      "metadata": {
        "colab": {
          "base_uri": "https://localhost:8080/"
        },
        "id": "PSTr8CVofVJT",
        "outputId": "350ba078-c0b6-47a6-c217-2569b10e553e"
      },
      "execution_count": null,
      "outputs": [
        {
          "output_type": "stream",
          "name": "stdout",
          "text": [
            "Grape\n"
          ]
        }
      ]
    },
    {
      "cell_type": "code",
      "source": [
        "print(fruit_list[5])"
      ],
      "metadata": {
        "colab": {
          "base_uri": "https://localhost:8080/"
        },
        "id": "Sptk_Qv3fzyM",
        "outputId": "b1660b04-dfdb-470d-9072-1007d44d8ade"
      },
      "execution_count": null,
      "outputs": [
        {
          "output_type": "stream",
          "name": "stdout",
          "text": [
            "banana\n"
          ]
        }
      ]
    },
    {
      "cell_type": "code",
      "source": [
        "#Negative indexing\n",
        "print(fruit_list[-1])"
      ],
      "metadata": {
        "colab": {
          "base_uri": "https://localhost:8080/"
        },
        "id": "NTc8RlYAgDlL",
        "outputId": "92cfa2de-7080-4fba-81ae-e25d81d16815"
      },
      "execution_count": null,
      "outputs": [
        {
          "output_type": "stream",
          "name": "stdout",
          "text": [
            "banana\n"
          ]
        }
      ]
    },
    {
      "cell_type": "code",
      "source": [
        "print(fruit_list[-6])"
      ],
      "metadata": {
        "colab": {
          "base_uri": "https://localhost:8080/"
        },
        "id": "Zs0LoZ_kg4pV",
        "outputId": "38f36417-b852-46ff-abf3-f217c7fa34f3"
      },
      "execution_count": null,
      "outputs": [
        {
          "output_type": "stream",
          "name": "stdout",
          "text": [
            "Grape\n"
          ]
        }
      ]
    },
    {
      "cell_type": "code",
      "source": [
        "print(fruit_list[-0])"
      ],
      "metadata": {
        "colab": {
          "base_uri": "https://localhost:8080/"
        },
        "id": "vWHsbCoEhJJ6",
        "outputId": "2bef1e97-2923-4063-8f71-1dead0757a61"
      },
      "execution_count": null,
      "outputs": [
        {
          "output_type": "stream",
          "name": "stdout",
          "text": [
            "Grape\n"
          ]
        }
      ]
    },
    {
      "cell_type": "code",
      "source": [
        "print(fruit_list[-6])"
      ],
      "metadata": {
        "colab": {
          "base_uri": "https://localhost:8080/"
        },
        "id": "WzVsW22ghmqG",
        "outputId": "1d8b8e58-5cfb-4abf-fc0a-a7435308c717"
      },
      "execution_count": null,
      "outputs": [
        {
          "output_type": "stream",
          "name": "stdout",
          "text": [
            "Grape\n"
          ]
        }
      ]
    },
    {
      "cell_type": "code",
      "source": [
        "# Multi Item Extraction\n",
        "# finding the 3rd, 4th and 5th item\n",
        "print(fruit_list[2:5])"
      ],
      "metadata": {
        "colab": {
          "base_uri": "https://localhost:8080/"
        },
        "id": "rEjinJDchz4u",
        "outputId": "201be07b-4014-4f05-eba0-74bbdea74ade"
      },
      "execution_count": null,
      "outputs": [
        {
          "output_type": "stream",
          "name": "stdout",
          "text": [
            "['mango', 'Pineapple', 'guava']\n"
          ]
        }
      ]
    },
    {
      "cell_type": "code",
      "source": [
        "# Only Specific Range\n",
        "print(fruit_list[1:])"
      ],
      "metadata": {
        "colab": {
          "base_uri": "https://localhost:8080/"
        },
        "id": "c-vOA6i8iRDg",
        "outputId": "c62488cb-f224-4f18-c46a-da30746dfeec"
      },
      "execution_count": null,
      "outputs": [
        {
          "output_type": "stream",
          "name": "stdout",
          "text": [
            "['Peach', 'mango', 'Pineapple', 'guava', 'banana']\n"
          ]
        }
      ]
    },
    {
      "cell_type": "code",
      "source": [
        "#Adding two different lists together\n",
        "fruit_list_1 = [\"Strawberry\", \"Cherry\", \"Blackberry\", \"Avocado\"]\n",
        "fruit_list.extend(fruit_list_1)\n",
        "print(fruit_list)"
      ],
      "metadata": {
        "colab": {
          "base_uri": "https://localhost:8080/"
        },
        "id": "IYEeeGiviuu_",
        "outputId": "9e1e7b27-24e6-4e94-8d5b-6d3a531d0b68"
      },
      "execution_count": null,
      "outputs": [
        {
          "output_type": "stream",
          "name": "stdout",
          "text": [
            "['Grape', 'Peach', 'mango', 'Pineapple', 'guava', 'banana', 'Strawberry', 'Cherry', 'Blackberry', 'Avocado']\n"
          ]
        }
      ]
    },
    {
      "cell_type": "code",
      "source": [
        "#Tuple\n",
        "additional = (\"Kiwi\", \"Watermelon\")\n",
        "fruit_list.extend(additional)\n",
        "print(fruit_list)"
      ],
      "metadata": {
        "colab": {
          "base_uri": "https://localhost:8080/"
        },
        "id": "djVz1Ld9kDFC",
        "outputId": "75d9c89d-d545-4a5f-d032-65fcc12a790c"
      },
      "execution_count": null,
      "outputs": [
        {
          "output_type": "stream",
          "name": "stdout",
          "text": [
            "['Grape', 'Peach', 'mango', 'Pineapple', 'guava', 'banana', 'Strawberry', 'Cherry', 'Blackberry', 'Avocado', 'Kiwi', 'Watermelon']\n"
          ]
        }
      ]
    },
    {
      "cell_type": "code",
      "source": [
        "print(fruit_list_1[0])"
      ],
      "metadata": {
        "colab": {
          "base_uri": "https://localhost:8080/"
        },
        "id": "7K02jIa9k7GR",
        "outputId": "87aaa345-2d24-427d-83f7-afa1d63a2bb1"
      },
      "execution_count": null,
      "outputs": [
        {
          "output_type": "stream",
          "name": "stdout",
          "text": [
            "Strawberry\n"
          ]
        }
      ]
    },
    {
      "cell_type": "code",
      "source": [
        "print(additional[0])"
      ],
      "metadata": {
        "colab": {
          "base_uri": "https://localhost:8080/"
        },
        "id": "uu7q-yHnlIjU",
        "outputId": "05ec3891-84ed-4782-ea23-e8043f4b2094"
      },
      "execution_count": null,
      "outputs": [
        {
          "output_type": "stream",
          "name": "stdout",
          "text": [
            "Kiwi\n"
          ]
        }
      ]
    },
    {
      "cell_type": "code",
      "source": [
        "#remove some fruits from the dataset\n",
        "print(fruit_list.pop(-3))"
      ],
      "metadata": {
        "colab": {
          "base_uri": "https://localhost:8080/"
        },
        "id": "V4k8Z7TvlZ0L",
        "outputId": "5bcb20a9-9ea1-48c8-9f52-792286080429"
      },
      "execution_count": null,
      "outputs": [
        {
          "output_type": "stream",
          "name": "stdout",
          "text": [
            "Avocado\n"
          ]
        }
      ]
    },
    {
      "cell_type": "code",
      "source": [
        "print(fruit_list)"
      ],
      "metadata": {
        "colab": {
          "base_uri": "https://localhost:8080/"
        },
        "id": "1yaH14pslxl9",
        "outputId": "452f26e1-a82d-4f10-c478-f05d70003936"
      },
      "execution_count": null,
      "outputs": [
        {
          "output_type": "stream",
          "name": "stdout",
          "text": [
            "['Grape', 'Peach', 'mango', 'Pineapple', 'guava', 'banana', 'Strawberry', 'Cherry', 'Blackberry', 'Kiwi', 'Watermelon']\n"
          ]
        }
      ]
    },
    {
      "cell_type": "code",
      "source": [
        "print(fruit_list)"
      ],
      "metadata": {
        "colab": {
          "base_uri": "https://localhost:8080/"
        },
        "id": "5_j5MiYOmjpE",
        "outputId": "dcfd9599-aabf-4b1a-ed0c-a31fb3cd5df5"
      },
      "execution_count": null,
      "outputs": [
        {
          "output_type": "stream",
          "name": "stdout",
          "text": [
            "['Grape', 'Peach', 'mango', 'Pineapple', 'guava', 'banana', 'Strawberry', 'Cherry', 'Blackberry', 'Kiwi', 'Watermelon']\n"
          ]
        }
      ]
    },
    {
      "cell_type": "code",
      "source": [
        "print(fruit_list)"
      ],
      "metadata": {
        "colab": {
          "base_uri": "https://localhost:8080/"
        },
        "id": "w_V_eQPtmU0b",
        "outputId": "c4ed566e-069e-43aa-d127-f2229daa1870"
      },
      "execution_count": null,
      "outputs": [
        {
          "output_type": "stream",
          "name": "stdout",
          "text": [
            "['Grape', 'Peach', 'mango', 'Pineapple', 'guava', 'banana', 'Strawberry', 'Cherry', 'Blackberry', 'Kiwi', 'Watermelon']\n"
          ]
        }
      ]
    },
    {
      "cell_type": "code",
      "source": [
        "print(fruit_list.append(\"kiwi\"))"
      ],
      "metadata": {
        "colab": {
          "base_uri": "https://localhost:8080/"
        },
        "id": "02yRgGGLm3IA",
        "outputId": "c1d7e372-ff40-4951-c4c9-ce4b242147ea"
      },
      "execution_count": null,
      "outputs": [
        {
          "output_type": "stream",
          "name": "stdout",
          "text": [
            "None\n"
          ]
        }
      ]
    },
    {
      "cell_type": "code",
      "source": [
        "print(fruit_list)"
      ],
      "metadata": {
        "colab": {
          "base_uri": "https://localhost:8080/"
        },
        "id": "oz4ckDPVm79S",
        "outputId": "d1fcef08-f65b-4249-a652-7ec96e2818b5"
      },
      "execution_count": null,
      "outputs": [
        {
          "output_type": "stream",
          "name": "stdout",
          "text": [
            "['Grape', 'Peach', 'mango', 'Pineapple', 'guava', 'banana', 'Strawberry', 'Cherry', 'Blackberry', 'Kiwi', 'Watermelon', 'kiwi']\n"
          ]
        }
      ]
    },
    {
      "cell_type": "code",
      "source": [
        "#For Loop\n",
        "for x in fruit_list:\n",
        "  print(x)"
      ],
      "metadata": {
        "colab": {
          "base_uri": "https://localhost:8080/"
        },
        "id": "wrMoEmKJnDVF",
        "outputId": "ff308d4e-6bc1-4942-df9b-1e6dba6d44ab"
      },
      "execution_count": null,
      "outputs": [
        {
          "output_type": "stream",
          "name": "stdout",
          "text": [
            "Grape\n",
            "Peach\n",
            "mango\n",
            "Pineapple\n",
            "guava\n",
            "banana\n",
            "Strawberry\n",
            "Cherry\n",
            "Blackberry\n",
            "Kiwi\n",
            "Watermelon\n",
            "kiwi\n"
          ]
        }
      ]
    },
    {
      "cell_type": "code",
      "source": [
        "for i in range(len(fruit_list)):\n",
        "  print(fruit_list[i])"
      ],
      "metadata": {
        "colab": {
          "base_uri": "https://localhost:8080/"
        },
        "id": "oBCa4S-Aof_a",
        "outputId": "912bf08c-b7b6-45e6-b0a2-0b9474fbd5a1"
      },
      "execution_count": null,
      "outputs": [
        {
          "output_type": "stream",
          "name": "stdout",
          "text": [
            "Grape\n",
            "Peach\n",
            "mango\n",
            "Pineapple\n",
            "guava\n",
            "banana\n",
            "Strawberry\n",
            "Cherry\n",
            "Blackberry\n",
            "Kiwi\n",
            "Watermelon\n",
            "kiwi\n"
          ]
        }
      ]
    },
    {
      "cell_type": "code",
      "source": [
        "fruit_list = ['Grape', 'Peach', 'Jackfruit', 'Pineapple', 'guava', 'banana', 'Strawberry', 'Cherry', 'Blackberry', 'Avocado', 'Watermelon']\n",
        "z = 0\n",
        "while z < len(fruit_list):\n",
        "  print(fruit_list[z])\n",
        "  z = z + 1"
      ],
      "metadata": {
        "colab": {
          "base_uri": "https://localhost:8080/"
        },
        "id": "zQOOnE-6qJot",
        "outputId": "6f5cb328-1629-471f-c1d6-1c6ad5bb24da"
      },
      "execution_count": null,
      "outputs": [
        {
          "output_type": "stream",
          "name": "stdout",
          "text": [
            "Grape\n",
            "Peach\n",
            "Jackfruit\n",
            "Pineapple\n",
            "guava\n",
            "banana\n",
            "Strawberry\n",
            "Cherry\n",
            "Blackberry\n",
            "Avocado\n",
            "Watermelon\n"
          ]
        }
      ]
    },
    {
      "cell_type": "code",
      "source": [
        "[print(x) for x in fruit_list]"
      ],
      "metadata": {
        "colab": {
          "base_uri": "https://localhost:8080/"
        },
        "id": "SjAoSDdwrwVO",
        "outputId": "707fcaaa-b740-4751-eff9-7a2560baf31c"
      },
      "execution_count": null,
      "outputs": [
        {
          "output_type": "stream",
          "name": "stdout",
          "text": [
            "Grape\n",
            "Peach\n",
            "Jackfruit\n",
            "Pineapple\n",
            "guava\n",
            "banana\n",
            "Strawberry\n",
            "Cherry\n",
            "Blackberry\n",
            "Avocado\n",
            "Watermelon\n"
          ]
        },
        {
          "output_type": "execute_result",
          "data": {
            "text/plain": [
              "[None, None, None, None, None, None, None, None, None, None, None]"
            ]
          },
          "metadata": {},
          "execution_count": 33
        }
      ]
    },
    {
      "cell_type": "code",
      "source": [
        "new_fruit = []\n",
        "\n",
        "for x in fruit_list:\n",
        "  if \"b\" in x:\n",
        "    new_fruit.append(x)\n",
        "\n",
        "print(new_fruit)"
      ],
      "metadata": {
        "colab": {
          "base_uri": "https://localhost:8080/"
        },
        "id": "n0CxgTwLtM4t",
        "outputId": "4c73bee0-f0b1-48c1-bf78-5a0cc3cd07cb"
      },
      "execution_count": null,
      "outputs": [
        {
          "output_type": "stream",
          "name": "stdout",
          "text": [
            "['banana', 'Strawberry', 'Blackberry']\n"
          ]
        }
      ]
    }
  ]
}