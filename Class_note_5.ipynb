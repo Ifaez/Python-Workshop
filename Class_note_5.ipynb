{
  "nbformat": 4,
  "nbformat_minor": 0,
  "metadata": {
    "colab": {
      "provenance": []
    },
    "kernelspec": {
      "name": "python3",
      "display_name": "Python 3"
    },
    "language_info": {
      "name": "python"
    }
  },
  "cells": [
    {
      "cell_type": "code",
      "execution_count": 13,
      "metadata": {
        "colab": {
          "base_uri": "https://localhost:8080/"
        },
        "id": "J6GYhDBgwsJ2",
        "outputId": "c351d83a-7b1e-449d-cc98-c2e36cb8fc1d"
      },
      "outputs": [
        {
          "output_type": "stream",
          "name": "stdout",
          "text": [
            "   Demand  Price\n",
            "0      25   4325\n",
            "1      30   4250\n",
            "2      53   4850\n",
            "3      55   2500\n",
            "4      67   5250\n",
            "5      70   4800\n",
            "6      80   3400\n",
            "7      82   3200\n",
            "8      80   3450\n",
            "9      79   2150\n"
          ]
        }
      ],
      "source": [
        "### Class 5 ###\n",
        "\n",
        "import pandas as pd\n",
        "import numpy as np\n",
        "import matplotlib.pyplot as plt\n",
        "\n",
        "data = pd.DataFrame({\"Demand\" : [25, 30, 53, 55, 67, 70, 80, 82, 80, 79],\n",
        "                     \"Price\" : [4325, 4250, 4850, 2500, 5250, 4800, 3400, 3200, 3450, 2150]})\n",
        "print(data)"
      ]
    },
    {
      "cell_type": "code",
      "source": [
        "data[\"Percentage Change in Demand\"] = data[\"Demand\"].pct_change()\n",
        "data[\"Percentage Change in Price\"] = data[\"Price\"].pct_change()\n",
        "print(data)\n"
      ],
      "metadata": {
        "colab": {
          "base_uri": "https://localhost:8080/"
        },
        "id": "tH4TYguexiHA",
        "outputId": "473ce34d-6278-40f5-cc56-4de2a9b7af73"
      },
      "execution_count": 14,
      "outputs": [
        {
          "output_type": "stream",
          "name": "stdout",
          "text": [
            "   Demand  Price  Percentage Change in Demand  Percentage Change in Price\n",
            "0      25   4325                          NaN                         NaN\n",
            "1      30   4250                     0.200000                   -0.017341\n",
            "2      53   4850                     0.766667                    0.141176\n",
            "3      55   2500                     0.037736                   -0.484536\n",
            "4      67   5250                     0.218182                    1.100000\n",
            "5      70   4800                     0.044776                   -0.085714\n",
            "6      80   3400                     0.142857                   -0.291667\n",
            "7      82   3200                     0.025000                   -0.058824\n",
            "8      80   3450                    -0.024390                    0.078125\n",
            "9      79   2150                    -0.012500                   -0.376812\n"
          ]
        }
      ]
    },
    {
      "cell_type": "code",
      "source": [
        "data[\"Price Elasticity\"] = abs(data[\"Percentage Change in Demand\"]) / abs(data[\"Percentage Change in Price\"])\n",
        "print(data)"
      ],
      "metadata": {
        "colab": {
          "base_uri": "https://localhost:8080/"
        },
        "id": "a9AJcO2fx375",
        "outputId": "ba1482ab-0fd3-4a82-e16b-f8160da92f68"
      },
      "execution_count": 15,
      "outputs": [
        {
          "output_type": "stream",
          "name": "stdout",
          "text": [
            "   Demand  Price  Percentage Change in Demand  Percentage Change in Price  \\\n",
            "0      25   4325                          NaN                         NaN   \n",
            "1      30   4250                     0.200000                   -0.017341   \n",
            "2      53   4850                     0.766667                    0.141176   \n",
            "3      55   2500                     0.037736                   -0.484536   \n",
            "4      67   5250                     0.218182                    1.100000   \n",
            "5      70   4800                     0.044776                   -0.085714   \n",
            "6      80   3400                     0.142857                   -0.291667   \n",
            "7      82   3200                     0.025000                   -0.058824   \n",
            "8      80   3450                    -0.024390                    0.078125   \n",
            "9      79   2150                    -0.012500                   -0.376812   \n",
            "\n",
            "   Price Elasticity  \n",
            "0               NaN  \n",
            "1         11.533333  \n",
            "2          5.430556  \n",
            "3          0.077880  \n",
            "4          0.198347  \n",
            "5          0.522388  \n",
            "6          0.489796  \n",
            "7          0.425000  \n",
            "8          0.312195  \n",
            "9          0.033173  \n"
          ]
        }
      ]
    },
    {
      "cell_type": "code",
      "source": [
        "!pip install pyspellchecker"
      ],
      "metadata": {
        "colab": {
          "base_uri": "https://localhost:8080/"
        },
        "id": "i8rzY1OPx6gi",
        "outputId": "c20bc5b2-615e-4719-f979-d025d45756fc"
      },
      "execution_count": 7,
      "outputs": [
        {
          "output_type": "stream",
          "name": "stdout",
          "text": [
            "Collecting pyspellchecker\n",
            "  Downloading pyspellchecker-0.7.2-py3-none-any.whl (3.4 MB)\n",
            "\u001b[2K     \u001b[90m━━━━━━━━━━━━━━━━━━━━━━━━━━━━━━━━━━━━━━━━\u001b[0m \u001b[32m3.4/3.4 MB\u001b[0m \u001b[31m16.3 MB/s\u001b[0m eta \u001b[36m0:00:00\u001b[0m\n",
            "\u001b[?25hInstalling collected packages: pyspellchecker\n",
            "Successfully installed pyspellchecker-0.7.2\n"
          ]
        }
      ]
    },
    {
      "cell_type": "code",
      "source": [
        "from spellchecker import SpellChecker\n",
        "correct = SpellChecker()\n",
        "\n",
        "word = input(\"Enter a word: \")\n",
        "if word in correct:\n",
        "  print(\"The word \" + word + \" is spelled correctly\")\n",
        "else:\n",
        "  correct_word = correct.correction(word)\n",
        "  print(\"Correct Spelling is: \", correct_word)\n"
      ],
      "metadata": {
        "colab": {
          "base_uri": "https://localhost:8080/"
        },
        "id": "hhMKbVQbyCVO",
        "outputId": "a5e1fdf6-a798-42c6-8f26-688e37184326"
      },
      "execution_count": 11,
      "outputs": [
        {
          "output_type": "stream",
          "name": "stdout",
          "text": [
            "Enter a word: finance\n",
            "The word finance is spelled correctly\n"
          ]
        }
      ]
    },
    {
      "cell_type": "code",
      "source": [
        "!pip install PyQRCode\n",
        "!pip install pypng"
      ],
      "metadata": {
        "colab": {
          "base_uri": "https://localhost:8080/"
        },
        "id": "pEKkWhUAyvxn",
        "outputId": "7a355be9-f02a-402e-e52c-f5eb410b6521"
      },
      "execution_count": 16,
      "outputs": [
        {
          "output_type": "stream",
          "name": "stdout",
          "text": [
            "Collecting PyQRCode\n",
            "  Downloading PyQRCode-1.2.1.zip (41 kB)\n",
            "\u001b[2K     \u001b[90m━━━━━━━━━━━━━━━━━━━━━━━━━━━━━━━━━━━━━━━━\u001b[0m \u001b[32m41.9/41.9 kB\u001b[0m \u001b[31m1.3 MB/s\u001b[0m eta \u001b[36m0:00:00\u001b[0m\n",
            "\u001b[?25h  Preparing metadata (setup.py) ... \u001b[?25l\u001b[?25hdone\n",
            "Building wheels for collected packages: PyQRCode\n",
            "  Building wheel for PyQRCode (setup.py) ... \u001b[?25l\u001b[?25hdone\n",
            "  Created wheel for PyQRCode: filename=PyQRCode-1.2.1-py3-none-any.whl size=36228 sha256=58bab0532952dcb05b407e0cf8bc26a3ae861d7ee800d3bc9af1bc36a1be5bb0\n",
            "  Stored in directory: /root/.cache/pip/wheels/34/2d/20/082874e49a32cdcc87ebaf99dd0099fb7774ef30f010dfb6f2\n",
            "Successfully built PyQRCode\n",
            "Installing collected packages: PyQRCode\n",
            "Successfully installed PyQRCode-1.2.1\n",
            "Collecting pypng\n",
            "  Downloading pypng-0.20220715.0-py3-none-any.whl (58 kB)\n",
            "\u001b[2K     \u001b[90m━━━━━━━━━━━━━━━━━━━━━━━━━━━━━━━━━━━━━━━━\u001b[0m \u001b[32m58.1/58.1 kB\u001b[0m \u001b[31m1.4 MB/s\u001b[0m eta \u001b[36m0:00:00\u001b[0m\n",
            "\u001b[?25hInstalling collected packages: pypng\n",
            "Successfully installed pypng-0.20220715.0\n"
          ]
        }
      ]
    },
    {
      "cell_type": "code",
      "source": [
        "import pyqrcode\n",
        "import png\n",
        "link = \"https://mail.google.com/mail/u/4/#inbox\"\n",
        "qr_code = pyqrcode.create(link)\n",
        "qr_code.png(\"Google Email Link\", scale = 5)\n"
      ],
      "metadata": {
        "id": "nZZbPfbMzXKb"
      },
      "execution_count": 18,
      "outputs": []
    },
    {
      "cell_type": "code",
      "source": [
        "!pip install phonenumbers"
      ],
      "metadata": {
        "colab": {
          "base_uri": "https://localhost:8080/"
        },
        "id": "Si7PKB9rzm0L",
        "outputId": "ccfbb57e-155c-4cea-84eb-3a24e4b808c3"
      },
      "execution_count": 19,
      "outputs": [
        {
          "output_type": "stream",
          "name": "stdout",
          "text": [
            "Collecting phonenumbers\n",
            "  Downloading phonenumbers-8.13.16-py2.py3-none-any.whl (2.6 MB)\n",
            "\u001b[2K     \u001b[90m━━━━━━━━━━━━━━━━━━━━━━━━━━━━━━━━━━━━━━━━\u001b[0m \u001b[32m2.6/2.6 MB\u001b[0m \u001b[31m13.9 MB/s\u001b[0m eta \u001b[36m0:00:00\u001b[0m\n",
            "\u001b[?25hInstalling collected packages: phonenumbers\n",
            "Successfully installed phonenumbers-8.13.16\n"
          ]
        }
      ]
    },
    {
      "cell_type": "code",
      "source": [
        "import phonenumbers as ph\n",
        "from phonenumbers import carrier\n",
        "from phonenumbers import geocoder\n",
        "from phonenumbers import timezone\n",
        "\n",
        "number = \"+8801803695680\"\n",
        "number = ph.parse(number)\n",
        "print(timezone.time_zones_for_number(number))\n",
        "print(carrier.name_for_number(number, \"en\"))\n",
        "print(geocoder.description_for_number(number, \"en\"))"
      ],
      "metadata": {
        "colab": {
          "base_uri": "https://localhost:8080/"
        },
        "id": "UN-rd4nazuff",
        "outputId": "23114a9b-6250-4977-97f3-f8b00287534c"
      },
      "execution_count": 21,
      "outputs": [
        {
          "output_type": "stream",
          "name": "stdout",
          "text": [
            "('Asia/Dhaka',)\n",
            "Robi\n",
            "Bangladesh\n"
          ]
        }
      ]
    },
    {
      "cell_type": "code",
      "source": [
        "height = float(input(\"Enter your height in centimeters: \"))\n",
        "weight = float(input(\"Enter your weight in Kg: \"))\n",
        "height_1 = height / 100\n",
        "\n",
        "bmi = weight / (height_1 * height_1)\n",
        "\n",
        "print(\"Your BMI Index is: \", bmi)"
      ],
      "metadata": {
        "colab": {
          "base_uri": "https://localhost:8080/"
        },
        "id": "t7U3cKY-z5Kt",
        "outputId": "c374b3a8-04e7-4e58-f026-7d87c1cbcf46"
      },
      "execution_count": 24,
      "outputs": [
        {
          "output_type": "stream",
          "name": "stdout",
          "text": [
            "Enter your height in centimeters: 183\n",
            "Enter your weight in Kg: 88\n",
            "Your BMI Index is:  26.27728507868255\n"
          ]
        }
      ]
    },
    {
      "cell_type": "code",
      "source": [
        "# BMI Calc\n",
        "\"\"\"\n",
        "Pseudocode:\n",
        "there will be positive value of BMI > 0\n",
        "if bmi > 0 && bmi <= 16\n",
        "you are underweight\n",
        "if bmi > 16 && bmi <= 18.5\n",
        "you are just underweight\n",
        "if bmi <= 25\n",
        "you are healthy\n",
        "if bmi <= 30\n",
        "you are overweight\n",
        "if bmi >30\n",
        "you are very overweight\n",
        "\"\"\"\n",
        "if(bmi > 0):\n",
        "  if(bmi < 16):\n",
        "    print(\"You are underweight.\")\n",
        "  elif(bmi <= 18.5):\n",
        "    print(\"You are just underweight.\")\n",
        "  elif(bmi <= 25):\n",
        "    print(\"You are healthy.\")\n",
        "  elif(bmi <= 30):\n",
        "    print(\"You are slightly overweight.\")\n",
        "  else:\n",
        "    print(\"You are seriously overweight.\")\n",
        "else:(\"Enter valid details\")"
      ],
      "metadata": {
        "colab": {
          "base_uri": "https://localhost:8080/"
        },
        "id": "SMbbebVo0OR4",
        "outputId": "685a4291-a8e3-4b3b-fd9d-177e81d9554f"
      },
      "execution_count": 25,
      "outputs": [
        {
          "output_type": "stream",
          "name": "stdout",
          "text": [
            "You are slightly overweight.\n"
          ]
        }
      ]
    },
    {
      "cell_type": "code",
      "source": [
        "#Game Creation\n",
        "\n",
        "\"\"\"\n",
        "Rock Paper Scissors\n",
        "rock = 1\n",
        "paper = 2\n",
        "scissors = 3\n",
        "computer (1 player)\n",
        "person (1 player)\n",
        "\"\"\"\n",
        "import random\n",
        "\n",
        "choices = [\"Rock\", \"Paper\", \"Scissors\"]\n",
        "\n",
        "computer = random.choice(choices)\n",
        "\n",
        "player = False\n",
        "\n",
        "cpu_score = 0\n",
        "player_score = 0\n",
        "\n",
        "while True:\n",
        "  player = input(\"Make choice of any of them, Rock, Paper or scissors: \").capitalize()\n",
        "  if player == computer:\n",
        "    print(\"Tie\")\n",
        "  elif player == \"Rock\":\n",
        "    if computer == \"Paper\":\n",
        "      print(\"You Lose!\", computer, \"covers\", player)\n",
        "      cpu_score += 1\n",
        "    else:\n",
        "      print(\"You lose!\", player, \"smashes\", computer)\n",
        "      player_score += 1\n",
        "  elif player == \"Paper\":\n",
        "    if computer == \"Scissors\":\n",
        "      print(\"You Lose!\", computer, \"cuts\", player)\n",
        "      cpu_score += 1\n",
        "    else:\n",
        "      print(\"You lose!\", player, \"smashes\", computer)\n",
        "      player_score += 1\n",
        "  elif player == \"Scissors\":\n",
        "    if computer == \"Rock\":\n",
        "      print(\"You Lose!\", computer, \"cuts\", player)\n",
        "      cpu_score += 1\n",
        "    else:\n",
        "      print(\"You lose!\", player, \"smashes\", computer)\n",
        "      player_score += 1\n",
        "  elif player == \"end\":\n",
        "    print(\"Final Score: \")\n",
        "    print(f\"CPU:{cpu_score}\")\n",
        "    print(f\"Player:{player_score}\")\n",
        "    break"
      ],
      "metadata": {
        "colab": {
          "base_uri": "https://localhost:8080/",
          "height": 588
        },
        "id": "Y29rDprT0e9i",
        "outputId": "e6028633-3612-4209-8dd7-3bf06bb18ee5"
      },
      "execution_count": 26,
      "outputs": [
        {
          "output_type": "stream",
          "name": "stdout",
          "text": [
            "Make choice of any of them, Rock, Paper or scissors: Rock\n",
            "You lose! Rock smashes Scissors\n",
            "Make choice of any of them, Rock, Paper or scissors: paper\n",
            "You Lose! Scissors cuts Paper\n",
            "Make choice of any of them, Rock, Paper or scissors: Scissors\n",
            "Tie\n",
            "Make choice of any of them, Rock, Paper or scissors: Rock\n",
            "You lose! Rock smashes Scissors\n",
            "Make choice of any of them, Rock, Paper or scissors: Scissors\n",
            "Tie\n",
            "Make choice of any of them, Rock, Paper or scissors: Rock\n",
            "You lose! Rock smashes Scissors\n"
          ]
        },
        {
          "output_type": "error",
          "ename": "KeyboardInterrupt",
          "evalue": "ignored",
          "traceback": [
            "\u001b[0;31m---------------------------------------------------------------------------\u001b[0m",
            "\u001b[0;31mKeyboardInterrupt\u001b[0m                         Traceback (most recent call last)",
            "\u001b[0;32m<ipython-input-26-60555995891f>\u001b[0m in \u001b[0;36m<cell line: 20>\u001b[0;34m()\u001b[0m\n\u001b[1;32m     19\u001b[0m \u001b[0;34m\u001b[0m\u001b[0m\n\u001b[1;32m     20\u001b[0m \u001b[0;32mwhile\u001b[0m \u001b[0;32mTrue\u001b[0m\u001b[0;34m:\u001b[0m\u001b[0;34m\u001b[0m\u001b[0;34m\u001b[0m\u001b[0m\n\u001b[0;32m---> 21\u001b[0;31m   \u001b[0mplayer\u001b[0m \u001b[0;34m=\u001b[0m \u001b[0minput\u001b[0m\u001b[0;34m(\u001b[0m\u001b[0;34m\"Make choice of any of them, Rock, Paper or scissors: \"\u001b[0m\u001b[0;34m)\u001b[0m\u001b[0;34m.\u001b[0m\u001b[0mcapitalize\u001b[0m\u001b[0;34m(\u001b[0m\u001b[0;34m)\u001b[0m\u001b[0;34m\u001b[0m\u001b[0;34m\u001b[0m\u001b[0m\n\u001b[0m\u001b[1;32m     22\u001b[0m   \u001b[0;32mif\u001b[0m \u001b[0mplayer\u001b[0m \u001b[0;34m==\u001b[0m \u001b[0mcomputer\u001b[0m\u001b[0;34m:\u001b[0m\u001b[0;34m\u001b[0m\u001b[0;34m\u001b[0m\u001b[0m\n\u001b[1;32m     23\u001b[0m     \u001b[0mprint\u001b[0m\u001b[0;34m(\u001b[0m\u001b[0;34m\"Tie\"\u001b[0m\u001b[0;34m)\u001b[0m\u001b[0;34m\u001b[0m\u001b[0;34m\u001b[0m\u001b[0m\n",
            "\u001b[0;32m/usr/local/lib/python3.10/dist-packages/ipykernel/kernelbase.py\u001b[0m in \u001b[0;36mraw_input\u001b[0;34m(self, prompt)\u001b[0m\n\u001b[1;32m    849\u001b[0m                 \u001b[0;34m\"raw_input was called, but this frontend does not support input requests.\"\u001b[0m\u001b[0;34m\u001b[0m\u001b[0;34m\u001b[0m\u001b[0m\n\u001b[1;32m    850\u001b[0m             )\n\u001b[0;32m--> 851\u001b[0;31m         return self._input_request(str(prompt),\n\u001b[0m\u001b[1;32m    852\u001b[0m             \u001b[0mself\u001b[0m\u001b[0;34m.\u001b[0m\u001b[0m_parent_ident\u001b[0m\u001b[0;34m,\u001b[0m\u001b[0;34m\u001b[0m\u001b[0;34m\u001b[0m\u001b[0m\n\u001b[1;32m    853\u001b[0m             \u001b[0mself\u001b[0m\u001b[0;34m.\u001b[0m\u001b[0m_parent_header\u001b[0m\u001b[0;34m,\u001b[0m\u001b[0;34m\u001b[0m\u001b[0;34m\u001b[0m\u001b[0m\n",
            "\u001b[0;32m/usr/local/lib/python3.10/dist-packages/ipykernel/kernelbase.py\u001b[0m in \u001b[0;36m_input_request\u001b[0;34m(self, prompt, ident, parent, password)\u001b[0m\n\u001b[1;32m    893\u001b[0m             \u001b[0;32mexcept\u001b[0m \u001b[0mKeyboardInterrupt\u001b[0m\u001b[0;34m:\u001b[0m\u001b[0;34m\u001b[0m\u001b[0;34m\u001b[0m\u001b[0m\n\u001b[1;32m    894\u001b[0m                 \u001b[0;31m# re-raise KeyboardInterrupt, to truncate traceback\u001b[0m\u001b[0;34m\u001b[0m\u001b[0;34m\u001b[0m\u001b[0m\n\u001b[0;32m--> 895\u001b[0;31m                 \u001b[0;32mraise\u001b[0m \u001b[0mKeyboardInterrupt\u001b[0m\u001b[0;34m(\u001b[0m\u001b[0;34m\"Interrupted by user\"\u001b[0m\u001b[0;34m)\u001b[0m \u001b[0;32mfrom\u001b[0m \u001b[0;32mNone\u001b[0m\u001b[0;34m\u001b[0m\u001b[0;34m\u001b[0m\u001b[0m\n\u001b[0m\u001b[1;32m    896\u001b[0m             \u001b[0;32mexcept\u001b[0m \u001b[0mException\u001b[0m \u001b[0;32mas\u001b[0m \u001b[0me\u001b[0m\u001b[0;34m:\u001b[0m\u001b[0;34m\u001b[0m\u001b[0;34m\u001b[0m\u001b[0m\n\u001b[1;32m    897\u001b[0m                 \u001b[0mself\u001b[0m\u001b[0;34m.\u001b[0m\u001b[0mlog\u001b[0m\u001b[0;34m.\u001b[0m\u001b[0mwarning\u001b[0m\u001b[0;34m(\u001b[0m\u001b[0;34m\"Invalid Message:\"\u001b[0m\u001b[0;34m,\u001b[0m \u001b[0mexc_info\u001b[0m\u001b[0;34m=\u001b[0m\u001b[0;32mTrue\u001b[0m\u001b[0;34m)\u001b[0m\u001b[0;34m\u001b[0m\u001b[0;34m\u001b[0m\u001b[0m\n",
            "\u001b[0;31mKeyboardInterrupt\u001b[0m: Interrupted by user"
          ]
        }
      ]
    },
    {
      "cell_type": "code",
      "source": [
        "!pip install forex_python"
      ],
      "metadata": {
        "colab": {
          "base_uri": "https://localhost:8080/"
        },
        "id": "rLdWsMqS1OQJ",
        "outputId": "75b39ec9-f806-43ea-c9f5-21db48383fda"
      },
      "execution_count": 27,
      "outputs": [
        {
          "output_type": "stream",
          "name": "stdout",
          "text": [
            "Collecting forex_python\n",
            "  Downloading forex_python-1.8-py3-none-any.whl (8.2 kB)\n",
            "Requirement already satisfied: requests in /usr/local/lib/python3.10/dist-packages (from forex_python) (2.27.1)\n",
            "Collecting simplejson (from forex_python)\n",
            "  Downloading simplejson-3.19.1-cp310-cp310-manylinux_2_5_x86_64.manylinux1_x86_64.manylinux_2_17_x86_64.manylinux2014_x86_64.whl (137 kB)\n",
            "\u001b[2K     \u001b[90m━━━━━━━━━━━━━━━━━━━━━━━━━━━━━━━━━━━━━━━\u001b[0m \u001b[32m137.9/137.9 kB\u001b[0m \u001b[31m3.6 MB/s\u001b[0m eta \u001b[36m0:00:00\u001b[0m\n",
            "\u001b[?25hRequirement already satisfied: urllib3<1.27,>=1.21.1 in /usr/local/lib/python3.10/dist-packages (from requests->forex_python) (1.26.16)\n",
            "Requirement already satisfied: certifi>=2017.4.17 in /usr/local/lib/python3.10/dist-packages (from requests->forex_python) (2023.5.7)\n",
            "Requirement already satisfied: charset-normalizer~=2.0.0 in /usr/local/lib/python3.10/dist-packages (from requests->forex_python) (2.0.12)\n",
            "Requirement already satisfied: idna<4,>=2.5 in /usr/local/lib/python3.10/dist-packages (from requests->forex_python) (3.4)\n",
            "Installing collected packages: simplejson, forex_python\n",
            "Successfully installed forex_python-1.8 simplejson-3.19.1\n"
          ]
        }
      ]
    },
    {
      "cell_type": "code",
      "source": [
        "from forex_python.converter import CurrencyRates\n",
        "c = CurrencyRates()\n",
        "amount = float(input(\"Enter the amount: \"))\n",
        "from_currency = input(\"From Currency: \").upper()\n",
        "to_currency = input(\"To Currency: \").upper()\n",
        "print(from_currency, \" to \", to_currency, amount)\n",
        "result = c.convert(from_currency, to_currency, amount)\n",
        "print(result)\n",
        "\n",
        "def missing_numbers(n):\n",
        "  numbers = set(n)\n",
        "  length = len(n)\n",
        "  output = []\n",
        "\n",
        "  for i in range(4, n[-1]):\n",
        "    if i not in numbers:\n",
        "      output.append(i)\n",
        "  return output"
      ],
      "metadata": {
        "colab": {
          "base_uri": "https://localhost:8080/"
        },
        "id": "S3MlZpmX1W5X",
        "outputId": "8f4be7f1-2a2c-46e9-ef74-9c7ce3627e95"
      },
      "execution_count": 29,
      "outputs": [
        {
          "output_type": "stream",
          "name": "stdout",
          "text": [
            "Enter the amount: 5000\n",
            "From Currency: PKR\n",
            "To Currency: USD\n",
            "PKR  to  USD 5000.0\n",
            "36.05351170568562\n"
          ]
        }
      ]
    },
    {
      "cell_type": "code",
      "source": [
        "list_1 = [ 12, 13, 18, 19, 20, 10, 3, 9, 17]\n",
        "print(missing_numbers(list_1))"
      ],
      "metadata": {
        "colab": {
          "base_uri": "https://localhost:8080/"
        },
        "id": "_FQ4VeO91m5u",
        "outputId": "40ba4a3c-d84e-4c5a-ae75-2fdd76dfe4f7"
      },
      "execution_count": 30,
      "outputs": [
        {
          "output_type": "stream",
          "name": "stdout",
          "text": [
            "[4, 5, 6, 7, 8, 11, 14, 15, 16]\n"
          ]
        }
      ]
    },
    {
      "cell_type": "code",
      "source": [
        "!pip install yfinance"
      ],
      "metadata": {
        "colab": {
          "base_uri": "https://localhost:8080/"
        },
        "id": "K527rpYg11bw",
        "outputId": "584ae67a-0c5c-40b4-eaa8-d96a74eeccef"
      },
      "execution_count": 31,
      "outputs": [
        {
          "output_type": "stream",
          "name": "stdout",
          "text": [
            "Requirement already satisfied: yfinance in /usr/local/lib/python3.10/dist-packages (0.2.22)\n",
            "Requirement already satisfied: pandas>=1.3.0 in /usr/local/lib/python3.10/dist-packages (from yfinance) (1.5.3)\n",
            "Requirement already satisfied: numpy>=1.16.5 in /usr/local/lib/python3.10/dist-packages (from yfinance) (1.22.4)\n",
            "Requirement already satisfied: requests>=2.26 in /usr/local/lib/python3.10/dist-packages (from yfinance) (2.27.1)\n",
            "Requirement already satisfied: multitasking>=0.0.7 in /usr/local/lib/python3.10/dist-packages (from yfinance) (0.0.11)\n",
            "Requirement already satisfied: lxml>=4.9.1 in /usr/local/lib/python3.10/dist-packages (from yfinance) (4.9.3)\n",
            "Requirement already satisfied: appdirs>=1.4.4 in /usr/local/lib/python3.10/dist-packages (from yfinance) (1.4.4)\n",
            "Requirement already satisfied: pytz>=2022.5 in /usr/local/lib/python3.10/dist-packages (from yfinance) (2022.7.1)\n",
            "Requirement already satisfied: frozendict>=2.3.4 in /usr/local/lib/python3.10/dist-packages (from yfinance) (2.3.8)\n",
            "Requirement already satisfied: beautifulsoup4>=4.11.1 in /usr/local/lib/python3.10/dist-packages (from yfinance) (4.11.2)\n",
            "Requirement already satisfied: html5lib>=1.1 in /usr/local/lib/python3.10/dist-packages (from yfinance) (1.1)\n",
            "Requirement already satisfied: soupsieve>1.2 in /usr/local/lib/python3.10/dist-packages (from beautifulsoup4>=4.11.1->yfinance) (2.4.1)\n",
            "Requirement already satisfied: six>=1.9 in /usr/local/lib/python3.10/dist-packages (from html5lib>=1.1->yfinance) (1.16.0)\n",
            "Requirement already satisfied: webencodings in /usr/local/lib/python3.10/dist-packages (from html5lib>=1.1->yfinance) (0.5.1)\n",
            "Requirement already satisfied: python-dateutil>=2.8.1 in /usr/local/lib/python3.10/dist-packages (from pandas>=1.3.0->yfinance) (2.8.2)\n",
            "Requirement already satisfied: urllib3<1.27,>=1.21.1 in /usr/local/lib/python3.10/dist-packages (from requests>=2.26->yfinance) (1.26.16)\n",
            "Requirement already satisfied: certifi>=2017.4.17 in /usr/local/lib/python3.10/dist-packages (from requests>=2.26->yfinance) (2023.5.7)\n",
            "Requirement already satisfied: charset-normalizer~=2.0.0 in /usr/local/lib/python3.10/dist-packages (from requests>=2.26->yfinance) (2.0.12)\n",
            "Requirement already satisfied: idna<4,>=2.5 in /usr/local/lib/python3.10/dist-packages (from requests>=2.26->yfinance) (3.4)\n"
          ]
        }
      ]
    },
    {
      "cell_type": "code",
      "source": [
        "import pandas as pd\n",
        "import yfinance as yf\n",
        "import datetime\n",
        "from datetime import date, timedelta\n",
        "today = date.today()\n",
        "\n",
        "d1 = today.strftime(\"%Y-%m-%d\")\n",
        "end_date = d1\n",
        "d2 = date.today() - timedelta(days = 360)\n",
        "d2 = d2.strftime(\"%Y-%m-%d\")\n",
        "start_date = d2\n",
        "\n",
        "data = yf.download(input(\"Enter the Stock Ticker Symbol: \"),\n",
        "                   start = start_date,\n",
        "                   end = end_date,\n",
        "                   progress = False)\n",
        "print(data.head())\n"
      ],
      "metadata": {
        "colab": {
          "base_uri": "https://localhost:8080/"
        },
        "id": "s64sWyxb13ZA",
        "outputId": "80c93e51-e16a-4de4-8265-9dacd4a70775"
      },
      "execution_count": 33,
      "outputs": [
        {
          "output_type": "stream",
          "name": "stdout",
          "text": [
            "Enter the Stock Ticker Symbol: NFLX\n",
            "                  Open        High         Low       Close   Adj Close  \\\n",
            "Date                                                                     \n",
            "2022-07-25  221.309998  225.229996  216.350006  218.509995  218.509995   \n",
            "2022-07-26  216.660004  219.389999  211.639999  213.910004  213.910004   \n",
            "2022-07-27  216.479996  227.779999  214.580002  226.750000  226.750000   \n",
            "2022-07-28  224.600006  228.100006  219.669998  226.020004  226.020004   \n",
            "2022-07-29  223.289993  230.750000  222.399994  224.899994  224.899994   \n",
            "\n",
            "              Volume  \n",
            "Date                  \n",
            "2022-07-25  10935200  \n",
            "2022-07-26   9508500  \n",
            "2022-07-27  10508400  \n",
            "2022-07-28   8972700  \n",
            "2022-07-29   9064900  \n"
          ]
        }
      ]
    }
  ]
}