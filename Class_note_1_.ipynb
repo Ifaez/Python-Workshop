{
  "nbformat": 4,
  "nbformat_minor": 0,
  "metadata": {
    "colab": {
      "provenance": []
    },
    "kernelspec": {
      "name": "python3",
      "display_name": "Python 3"
    },
    "language_info": {
      "name": "python"
    }
  },
  "cells": [
    {
      "cell_type": "code",
      "execution_count": 1,
      "metadata": {
        "id": "Va7WBT19_aEc",
        "colab": {
          "base_uri": "https://localhost:8080/"
        },
        "outputId": "3d2ee5db-d8cf-4e77-d238-b0084223ac31"
      },
      "outputs": [
        {
          "output_type": "stream",
          "name": "stdout",
          "text": [
            " I love eating Python Biriani \n"
          ]
        }
      ],
      "source": [
        "#### CLASS 1 ####\n",
        "print(\" I love eating Python Biriani \")"
      ]
    },
    {
      "cell_type": "code",
      "source": [
        "a = 5\n",
        "print(a)"
      ],
      "metadata": {
        "id": "2pNW8y6xAPwQ",
        "colab": {
          "base_uri": "https://localhost:8080/"
        },
        "outputId": "55d00488-43e7-4082-c7fc-3777211d6b63"
      },
      "execution_count": 2,
      "outputs": [
        {
          "output_type": "stream",
          "name": "stdout",
          "text": [
            "5\n"
          ]
        }
      ]
    },
    {
      "cell_type": "code",
      "source": [
        "\"\"\"\n",
        "At first, Python looks easy\n",
        "Then thing starts to get messy\n",
        "at the end, I feel drowsy\n",
        "\"\"\""
      ],
      "metadata": {
        "id": "k87IXaVaAQmu",
        "colab": {
          "base_uri": "https://localhost:8080/",
          "height": 35
        },
        "outputId": "27bf1830-e889-4fa5-ca78-936fcade7492"
      },
      "execution_count": 3,
      "outputs": [
        {
          "output_type": "execute_result",
          "data": {
            "text/plain": [
              "'\\nAt first, Python looks easy\\nThen thing starts to get messy\\nat the end, I feel drowsy\\n'"
            ],
            "application/vnd.google.colaboratory.intrinsic+json": {
              "type": "string"
            }
          },
          "metadata": {},
          "execution_count": 3
        }
      ]
    },
    {
      "cell_type": "code",
      "source": [
        "# Syntax Errors\n",
        "if (4 > 2):\n",
        "  print(\"If 4 is greater than 2\")"
      ],
      "metadata": {
        "colab": {
          "base_uri": "https://localhost:8080/"
        },
        "id": "9FcrwRWSD66l",
        "outputId": "49984050-1d8e-4b45-dfad-dc900dfc1bdf"
      },
      "execution_count": 4,
      "outputs": [
        {
          "output_type": "stream",
          "name": "stdout",
          "text": [
            "If 4 is greater than 2\n"
          ]
        }
      ]
    },
    {
      "cell_type": "code",
      "source": [
        "# Finding type of variables\n",
        "a = 6\n",
        "b = 6.5\n",
        "c = \"Ifaez\"\n",
        "\n",
        "print(type(a))\n",
        "print(type(b))\n",
        "print(type(c))"
      ],
      "metadata": {
        "id": "lOr7lBkWD8Lt",
        "colab": {
          "base_uri": "https://localhost:8080/"
        },
        "outputId": "377f50c9-13f6-4b91-aed4-5911a8af5642"
      },
      "execution_count": 5,
      "outputs": [
        {
          "output_type": "stream",
          "name": "stdout",
          "text": [
            "<class 'int'>\n",
            "<class 'float'>\n",
            "<class 'str'>\n"
          ]
        }
      ]
    },
    {
      "cell_type": "code",
      "source": [
        "a_1 = 4\n",
        "print(a * c)"
      ],
      "metadata": {
        "id": "3pZ8O4gFEVcL",
        "colab": {
          "base_uri": "https://localhost:8080/"
        },
        "outputId": "20c5edbb-4a26-4bbe-cae6-0af8fb82a65b"
      },
      "execution_count": 6,
      "outputs": [
        {
          "output_type": "stream",
          "name": "stdout",
          "text": [
            "IfaezIfaezIfaezIfaezIfaezIfaez\n"
          ]
        }
      ]
    },
    {
      "cell_type": "code",
      "source": [
        "m = 4.5\n",
        "n = 2\n",
        "q = m * n\n",
        "print(q)"
      ],
      "metadata": {
        "colab": {
          "base_uri": "https://localhost:8080/"
        },
        "id": "t-fzL98LEYsc",
        "outputId": "f72ac565-c79b-470c-e8f4-7a4c402be5f3"
      },
      "execution_count": 7,
      "outputs": [
        {
          "output_type": "stream",
          "name": "stdout",
          "text": [
            "9.0\n"
          ]
        }
      ]
    },
    {
      "cell_type": "code",
      "source": [
        "# Modulus Function\n",
        "\n",
        "p = m % n\n",
        "print(p)\n"
      ],
      "metadata": {
        "colab": {
          "base_uri": "https://localhost:8080/"
        },
        "id": "bC1nXgELI2BG",
        "outputId": "e7cb05c1-f64d-4f41-f868-20549262158a"
      },
      "execution_count": 8,
      "outputs": [
        {
          "output_type": "stream",
          "name": "stdout",
          "text": [
            "0.5\n"
          ]
        }
      ]
    },
    {
      "cell_type": "code",
      "source": [
        "y = str(\"peter\")\n",
        "t = 5\n",
        "print(y * t)"
      ],
      "metadata": {
        "colab": {
          "base_uri": "https://localhost:8080/"
        },
        "id": "j2kWCkp7I-R6",
        "outputId": "193879f7-8298-485d-d043-3f3492e5fd4b"
      },
      "execution_count": 9,
      "outputs": [
        {
          "output_type": "stream",
          "name": "stdout",
          "text": [
            "peterpeterpeterpeterpeter\n"
          ]
        }
      ]
    },
    {
      "cell_type": "code",
      "source": [
        "# Assigning Multiple Names to multiple variables\n",
        "class_mate_1, class_mate_2, class_mate_3 = \"Somip\", \"Ifaez\", \"Vubon\"\n",
        "print(class_mate_1)\n",
        "print(class_mate_2)\n",
        "print(class_mate_3)"
      ],
      "metadata": {
        "id": "UjKy-GsoI_Xj",
        "colab": {
          "base_uri": "https://localhost:8080/"
        },
        "outputId": "7cc255c5-7147-4fbc-87bd-49941de1d2e4"
      },
      "execution_count": 10,
      "outputs": [
        {
          "output_type": "stream",
          "name": "stdout",
          "text": [
            "Somip\n",
            "Ifaez\n",
            "Vubon\n"
          ]
        }
      ]
    },
    {
      "cell_type": "code",
      "source": [
        "#Packing and Unpacking of variables\n",
        "friends = [\"Somip\", \"Ifaez\", \"Vubon\"]\n",
        "class_mate_1, class_mate_2, class_mate_3 = friends\n",
        "print(class_mate_1)\n",
        "print(class_mate_2)\n",
        "print(class_mate_3)"
      ],
      "metadata": {
        "id": "mQQj_Lh-JLSR",
        "colab": {
          "base_uri": "https://localhost:8080/"
        },
        "outputId": "32a7e220-e17d-4b4e-97b9-d02ee0eae199"
      },
      "execution_count": 11,
      "outputs": [
        {
          "output_type": "stream",
          "name": "stdout",
          "text": [
            "Somip\n",
            "Ifaez\n",
            "Vubon\n"
          ]
        }
      ]
    },
    {
      "cell_type": "code",
      "source": [
        "e = f = g = 'Python Class'\n",
        "\n",
        "print(e)\n",
        "print(f)\n",
        "print(g)\n"
      ],
      "metadata": {
        "colab": {
          "base_uri": "https://localhost:8080/"
        },
        "id": "n7q38tqqJNxD",
        "outputId": "d89b931d-81c4-4977-eae9-1b85b5914b92"
      },
      "execution_count": 12,
      "outputs": [
        {
          "output_type": "stream",
          "name": "stdout",
          "text": [
            "Python Class\n",
            "Python Class\n",
            "Python Class\n"
          ]
        }
      ]
    },
    {
      "cell_type": "code",
      "source": [
        "# Global Variables\n",
        "x = \"excellent teacher\"\n",
        "\n",
        "def teacher_rating():\n",
        "  print(\"HAS sir is an \" + x)\n",
        "\n",
        "teacher_rating()\n"
      ],
      "metadata": {
        "id": "A4b_obyRJRds",
        "colab": {
          "base_uri": "https://localhost:8080/"
        },
        "outputId": "7b750247-e9a4-4477-d016-71f96afd27b5"
      },
      "execution_count": 13,
      "outputs": [
        {
          "output_type": "stream",
          "name": "stdout",
          "text": [
            "HAS sir is an excellent teacher\n"
          ]
        }
      ]
    },
    {
      "cell_type": "code",
      "source": [
        "x = \"excellent teacher\"\n",
        "\n",
        "def teacher_rating():\n",
        "  global x\n",
        "  x = \"Kind person\"\n",
        "\n",
        "teacher_rating()\n",
        "print(\"HAS sir is a \" + x)"
      ],
      "metadata": {
        "id": "PXeO_yxwMEyz",
        "colab": {
          "base_uri": "https://localhost:8080/"
        },
        "outputId": "053945b2-cdc9-4650-f1ca-b4222c8a12bf"
      },
      "execution_count": 14,
      "outputs": [
        {
          "output_type": "stream",
          "name": "stdout",
          "text": [
            "HAS sir is a Kind person\n"
          ]
        }
      ]
    },
    {
      "cell_type": "code",
      "source": [
        "#Finding a random number between 1 to 10\n",
        "\n",
        "import random as rd\n",
        "\n",
        "print(rd.uniform(103.45, 118.92))\n",
        "print(rd.randrange(1, 10))\n"
      ],
      "metadata": {
        "colab": {
          "base_uri": "https://localhost:8080/"
        },
        "id": "YdVCJ6W_JYNQ",
        "outputId": "8f4c083b-ad17-4dbe-8579-1b1787757f1d"
      },
      "execution_count": 15,
      "outputs": [
        {
          "output_type": "stream",
          "name": "stdout",
          "text": [
            "105.66491113399186\n",
            "8\n"
          ]
        }
      ]
    },
    {
      "cell_type": "code",
      "source": [
        "# String Positing\n",
        "a = \"Hello friends!\"\n",
        "print(a[10])"
      ],
      "metadata": {
        "id": "xltYs_fuJaSZ",
        "colab": {
          "base_uri": "https://localhost:8080/"
        },
        "outputId": "5c851534-fea8-4d6f-b8df-22f75a06be6c"
      },
      "execution_count": 16,
      "outputs": [
        {
          "output_type": "stream",
          "name": "stdout",
          "text": [
            "n\n"
          ]
        }
      ]
    },
    {
      "cell_type": "code",
      "source": [
        "print(len(a))"
      ],
      "metadata": {
        "id": "W0eZ_FJfMhb5",
        "colab": {
          "base_uri": "https://localhost:8080/"
        },
        "outputId": "9a810f45-e237-4853-d920-85bedbe426cb"
      },
      "execution_count": 17,
      "outputs": [
        {
          "output_type": "stream",
          "name": "stdout",
          "text": [
            "14\n"
          ]
        }
      ]
    },
    {
      "cell_type": "code",
      "source": [
        "#Loop through a string\n",
        "lecture_type = \"It is a fun class\"\n",
        "\n",
        "print(len(lecture_type))\n",
        "\n",
        "for x in lecture_type:\n",
        "  print(x)\n"
      ],
      "metadata": {
        "id": "2O7PmMIXJbvR",
        "colab": {
          "base_uri": "https://localhost:8080/"
        },
        "outputId": "e12d07da-b2c4-420b-84c0-d579cb692d25"
      },
      "execution_count": 18,
      "outputs": [
        {
          "output_type": "stream",
          "name": "stdout",
          "text": [
            "17\n",
            "I\n",
            "t\n",
            " \n",
            "i\n",
            "s\n",
            " \n",
            "a\n",
            " \n",
            "f\n",
            "u\n",
            "n\n",
            " \n",
            "c\n",
            "l\n",
            "a\n",
            "s\n",
            "s\n"
          ]
        }
      ]
    },
    {
      "cell_type": "code",
      "source": [
        "# String Slice\n",
        "a = \"Hello, class of python snakes!\"\n",
        "print(a[3:10])"
      ],
      "metadata": {
        "colab": {
          "base_uri": "https://localhost:8080/"
        },
        "id": "Fodlj2XdJm-f",
        "outputId": "916e1955-b4de-4557-816f-20705a036009"
      },
      "execution_count": 27,
      "outputs": [
        {
          "output_type": "stream",
          "name": "stdout",
          "text": [
            "lo, cla\n"
          ]
        }
      ]
    },
    {
      "cell_type": "code",
      "source": [
        "print(a[3:])\n"
      ],
      "metadata": {
        "colab": {
          "base_uri": "https://localhost:8080/"
        },
        "id": "h537WSt5Jr9x",
        "outputId": "3647b239-6d9f-4a20-8859-ba37da0c6f8f"
      },
      "execution_count": 28,
      "outputs": [
        {
          "output_type": "stream",
          "name": "stdout",
          "text": [
            "lo, class of python snakes!\n"
          ]
        }
      ]
    },
    {
      "cell_type": "code",
      "source": [
        "print(a[:-3])"
      ],
      "metadata": {
        "colab": {
          "base_uri": "https://localhost:8080/"
        },
        "id": "GJTC5dZQJyIt",
        "outputId": "0b4265d1-090c-4df0-8b52-b6dc93b08dec"
      },
      "execution_count": 29,
      "outputs": [
        {
          "output_type": "stream",
          "name": "stdout",
          "text": [
            "Hello, class of python snak\n"
          ]
        }
      ]
    },
    {
      "cell_type": "code",
      "source": [
        "print(a[-3:])"
      ],
      "metadata": {
        "colab": {
          "base_uri": "https://localhost:8080/"
        },
        "id": "E-KQfm47J0ne",
        "outputId": "4087c599-a9ca-45f8-fc63-126869249126"
      },
      "execution_count": 30,
      "outputs": [
        {
          "output_type": "stream",
          "name": "stdout",
          "text": [
            "es!\n"
          ]
        }
      ]
    },
    {
      "cell_type": "code",
      "source": [
        "print(a[-9:-4])"
      ],
      "metadata": {
        "colab": {
          "base_uri": "https://localhost:8080/"
        },
        "id": "nops_QFpJ3P5",
        "outputId": "d014e8cb-bba8-40e1-bbd5-5f564d91215c"
      },
      "execution_count": 31,
      "outputs": [
        {
          "output_type": "stream",
          "name": "stdout",
          "text": [
            "n sna\n"
          ]
        }
      ]
    },
    {
      "cell_type": "code",
      "source": [
        "print(a.upper())"
      ],
      "metadata": {
        "colab": {
          "base_uri": "https://localhost:8080/"
        },
        "id": "aqIzeN3lJ5OZ",
        "outputId": "fa9de2e0-80d9-49bc-b60d-d2d7935fcc6a"
      },
      "execution_count": 32,
      "outputs": [
        {
          "output_type": "stream",
          "name": "stdout",
          "text": [
            "HELLO, CLASS OF PYTHON SNAKES!\n"
          ]
        }
      ]
    },
    {
      "cell_type": "code",
      "source": [
        "print(a.lower())"
      ],
      "metadata": {
        "colab": {
          "base_uri": "https://localhost:8080/"
        },
        "id": "zjEYyZSdJ7FS",
        "outputId": "cb70ecf3-71f0-4b6e-b599-9163c9eb47a9"
      },
      "execution_count": 33,
      "outputs": [
        {
          "output_type": "stream",
          "name": "stdout",
          "text": [
            "hello, class of python snakes!\n"
          ]
        }
      ]
    },
    {
      "cell_type": "code",
      "source": [
        "print(a.replace(\"P\", \"C\"))\n"
      ],
      "metadata": {
        "colab": {
          "base_uri": "https://localhost:8080/"
        },
        "id": "j0zD30h_J9kb",
        "outputId": "10e6dbae-94e3-4237-ce1d-b449af68e373"
      },
      "execution_count": 34,
      "outputs": [
        {
          "output_type": "stream",
          "name": "stdout",
          "text": [
            "Hello, class of python snakes!\n"
          ]
        }
      ]
    },
    {
      "cell_type": "code",
      "source": [
        "#Concatenation or Joining two strings\n",
        "x = \"Python seems easy\"\n",
        "y = \" when HAS sir teaches\"\n",
        "print(x + y)"
      ],
      "metadata": {
        "id": "IBi2OWTAKAs0",
        "colab": {
          "base_uri": "https://localhost:8080/"
        },
        "outputId": "b6121366-694c-45f9-ca86-e7a41608c867"
      },
      "execution_count": 20,
      "outputs": [
        {
          "output_type": "stream",
          "name": "stdout",
          "text": [
            "Python seems easy when HAS sir teaches\n"
          ]
        }
      ]
    },
    {
      "cell_type": "code",
      "source": [
        "#String formatting with input\n",
        "name = input(\"Enter Your name: \")\n",
        "varsity = input(\"Name of your University? : \")\n",
        "department = input(\"Your Department? :  \")\n",
        "year = input(\"What semester are you in now? :  \")\n",
        "major = input(\"Your major? :  \")\n",
        "\n",
        "txt = \"My Name is {0}. I am studying at {1} in {2} department. This is my {3} semester. I am persuing {4} as my major.\"\n",
        "print(txt.format(name, varsity, department, year, major))"
      ],
      "metadata": {
        "id": "5v5lh6qGKAx9",
        "colab": {
          "base_uri": "https://localhost:8080/"
        },
        "outputId": "9651bef1-d4e8-43d4-d233-e3d128648fd9"
      },
      "execution_count": 35,
      "outputs": [
        {
          "output_type": "stream",
          "name": "stdout",
          "text": [
            "Enter Your name: Ifaez Amin Chowdhury\n",
            "Name of your University? : NSU\n",
            "Your Department? :  BBA\n",
            "What semester are you in now? :  11th\n",
            "Your major? :  Finance & Accounting\n",
            "My Name is Ifaez Amin Chowdhury. I am studying at NSU in BBA department. This is my 11th semester. I am persuing Finance & Accounting as my major.\n"
          ]
        }
      ]
    },
    {
      "cell_type": "code",
      "source": [],
      "metadata": {
        "id": "D4oWGDS3Nhhx"
      },
      "execution_count": null,
      "outputs": []
    }
  ]
}