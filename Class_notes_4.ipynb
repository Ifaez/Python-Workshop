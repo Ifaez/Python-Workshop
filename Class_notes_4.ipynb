{
  "nbformat": 4,
  "nbformat_minor": 0,
  "metadata": {
    "colab": {
      "provenance": []
    },
    "kernelspec": {
      "name": "python3",
      "display_name": "Python 3"
    },
    "language_info": {
      "name": "python"
    }
  },
  "cells": [
    {
      "cell_type": "code",
      "execution_count": 6,
      "metadata": {
        "colab": {
          "base_uri": "https://localhost:8080/"
        },
        "id": "iAH2pbg7QA3H",
        "outputId": "571eb2af-ec6a-406c-eb59-a50a133e313e"
      },
      "outputs": [
        {
          "output_type": "stream",
          "name": "stdout",
          "text": [
            "Enter any integer: 3\n",
            "Enter any integer: 9\n",
            "3\n",
            "4\n",
            "5\n",
            "6\n",
            "7\n",
            "8\n"
          ]
        }
      ],
      "source": [
        "# Loop While or for\n",
        "i = int(input(\"Enter any integer: \"))\n",
        "n = int(input(\"Enter any integer: \"))\n",
        "while i < n:\n",
        "  print(i)\n",
        "  i += 1"
      ]
    },
    {
      "cell_type": "code",
      "source": [
        "#Print with a break\n",
        "x = int(input(\"Enter any integer: \"))\n",
        "y = int(input(\"Enter any integer: \"))\n",
        "while x > y:\n",
        "  print(y)\n",
        "  if y == 8:\n",
        "    break\n",
        "  y += 1"
      ],
      "metadata": {
        "colab": {
          "base_uri": "https://localhost:8080/"
        },
        "id": "wS_uJ6ntRbnB",
        "outputId": "8f8ec0f7-df49-43c9-954c-94c495dba554"
      },
      "execution_count": 7,
      "outputs": [
        {
          "output_type": "stream",
          "name": "stdout",
          "text": [
            "Enter any integer: 13\n",
            "Enter any integer: 2\n",
            "2\n",
            "3\n",
            "4\n",
            "5\n",
            "6\n",
            "7\n",
            "8\n"
          ]
        }
      ]
    },
    {
      "cell_type": "code",
      "source": [
        "#Print with a continue\n",
        "x = int(input(\"Enter any integer: \"))\n",
        "y = int(input(\"Enter any integer: \"))\n",
        "while x > y:\n",
        "  y += 1\n",
        "  if y == 8:\n",
        "    continue\n",
        "  print(y)"
      ],
      "metadata": {
        "colab": {
          "base_uri": "https://localhost:8080/"
        },
        "id": "eI-iwYEaSx3_",
        "outputId": "0c90964d-f87b-4527-9557-393633279e19"
      },
      "execution_count": 8,
      "outputs": [
        {
          "output_type": "stream",
          "name": "stdout",
          "text": [
            "Enter any integer: 15\n",
            "Enter any integer: 3\n",
            "4\n",
            "5\n",
            "6\n",
            "7\n",
            "9\n",
            "10\n",
            "11\n",
            "12\n",
            "13\n",
            "14\n",
            "15\n"
          ]
        }
      ]
    },
    {
      "cell_type": "code",
      "source": [
        "foods = [\"garlic mushroom\", \"chicken fry\", \"sauteed vegetable\", \"desert\"]\n",
        "for k in foods:\n",
        "  print(k)\n",
        "  if k == \"sauteed vegetable\":\n",
        "    break"
      ],
      "metadata": {
        "colab": {
          "base_uri": "https://localhost:8080/"
        },
        "id": "gQCrK-2uVVXF",
        "outputId": "2d88b032-251d-427e-b351-9a96a2bae3b9"
      },
      "execution_count": 11,
      "outputs": [
        {
          "output_type": "stream",
          "name": "stdout",
          "text": [
            "garlic mushroom\n",
            "chicken fry\n",
            "sauteed vegetable\n"
          ]
        }
      ]
    },
    {
      "cell_type": "code",
      "source": [
        "for k in foods:\n",
        "  if k == \"sauteed vegetable\":\n",
        "    continue\n",
        "  print(k)"
      ],
      "metadata": {
        "colab": {
          "base_uri": "https://localhost:8080/"
        },
        "id": "S0ChsDOAVdL2",
        "outputId": "e4e1b7d4-9813-4880-ad31-14881b72c328"
      },
      "execution_count": 12,
      "outputs": [
        {
          "output_type": "stream",
          "name": "stdout",
          "text": [
            "garlic mushroom\n",
            "chicken fry\n",
            "desert\n"
          ]
        }
      ]
    },
    {
      "cell_type": "code",
      "source": [
        "#Nested Loop\n",
        "tastes = [\"Mild\", \"Salty\", \"Spicy\"]\n",
        "\n",
        "for m in tastes:\n",
        "  for n in foods:\n",
        "    print(m, n)"
      ],
      "metadata": {
        "colab": {
          "base_uri": "https://localhost:8080/"
        },
        "id": "snWx0A04XWlg",
        "outputId": "376ae844-5bea-4c3d-b865-0e788a5f45c6"
      },
      "execution_count": 13,
      "outputs": [
        {
          "output_type": "stream",
          "name": "stdout",
          "text": [
            "Mild garlic mushroom\n",
            "Mild chicken fry\n",
            "Mild sauteed vegetable\n",
            "Mild desert\n",
            "Salty garlic mushroom\n",
            "Salty chicken fry\n",
            "Salty sauteed vegetable\n",
            "Salty desert\n",
            "Spicy garlic mushroom\n",
            "Spicy chicken fry\n",
            "Spicy sauteed vegetable\n",
            "Spicy desert\n"
          ]
        }
      ]
    },
    {
      "cell_type": "code",
      "source": [
        "#Function\n",
        "\n",
        "def my_func(first_name):\n",
        "  print(first_name + \" Chowdhury\")\n",
        "\n",
        "my_func(input(\"Enter your first Name: \"))"
      ],
      "metadata": {
        "colab": {
          "base_uri": "https://localhost:8080/"
        },
        "id": "-8PxP4R3Y0P9",
        "outputId": "b3186b0f-a7c0-4b68-adde-4969cb34edd0"
      },
      "execution_count": 14,
      "outputs": [
        {
          "output_type": "stream",
          "name": "stdout",
          "text": [
            "Enter your first Name: Ifaez Amin\n",
            "Ifaez Amin Chowdhury\n"
          ]
        }
      ]
    },
    {
      "cell_type": "code",
      "source": [
        "def func_1(f_name, m_name, l_name):\n",
        "  print(f_name + \"\"+ m_name + \" \" + l_name)\n",
        "\n",
        "func_1(input(\"First Name: \"), input('Middle Name: '), input('Last Name: '))"
      ],
      "metadata": {
        "colab": {
          "base_uri": "https://localhost:8080/"
        },
        "id": "AGAc8FttaLBT",
        "outputId": "5ffdb869-f214-42f9-ca97-47ba50c64046"
      },
      "execution_count": 23,
      "outputs": [
        {
          "output_type": "stream",
          "name": "stdout",
          "text": [
            "First Name: Ifaez \n",
            "Middle Name: Amin\n",
            "Last Name: Chowdhury\n",
            "Ifaez Amin Chowdhury\n"
          ]
        }
      ]
    },
    {
      "cell_type": "code",
      "source": [
        "#Coding through Lambda\n",
        "m = lambda x: x + 5\n",
        "print(m(8))"
      ],
      "metadata": {
        "colab": {
          "base_uri": "https://localhost:8080/"
        },
        "id": "X6GY-7eJdHeZ",
        "outputId": "8227c3fa-500d-43e8-fe6f-09c679e5f737"
      },
      "execution_count": 24,
      "outputs": [
        {
          "output_type": "stream",
          "name": "stdout",
          "text": [
            "13\n"
          ]
        }
      ]
    },
    {
      "cell_type": "code",
      "source": [
        "def my_func(n, m):\n",
        "  return lambda a: a - n + m\n",
        "\n",
        "my_double = my_func(6, 8)\n",
        "print(my_double(41))"
      ],
      "metadata": {
        "colab": {
          "base_uri": "https://localhost:8080/"
        },
        "id": "PN1_vP8_f8Cu",
        "outputId": "4e62b102-e804-49c0-b0b8-f3d0074e0dcb"
      },
      "execution_count": 25,
      "outputs": [
        {
          "output_type": "stream",
          "name": "stdout",
          "text": [
            "43\n"
          ]
        }
      ]
    },
    {
      "cell_type": "code",
      "source": [
        "#class\n",
        "class my_class():\n",
        "  x = 6\n",
        "  y = 11\n",
        "\n",
        "p_1 = my_class()\n",
        "print(p_1.x * y)"
      ],
      "metadata": {
        "colab": {
          "base_uri": "https://localhost:8080/"
        },
        "id": "Q_BXw9Gyfk6y",
        "outputId": "b5c27294-3aad-4b30-e86d-37625c72379a"
      },
      "execution_count": null,
      "outputs": [
        {
          "output_type": "stream",
          "name": "stdout",
          "text": [
            "72\n"
          ]
        }
      ]
    },
    {
      "cell_type": "code",
      "source": [
        "class Human:\n",
        "  def __init__(self, name, age):\n",
        "    self.name = name\n",
        "    self.age = age\n",
        "\n",
        "p_1 = Human(\"Ifaez\", 23)\n",
        "\n",
        "print(p_1.name)\n",
        "print(p_1.age)"
      ],
      "metadata": {
        "colab": {
          "base_uri": "https://localhost:8080/"
        },
        "id": "W-CYRK_ak6IW",
        "outputId": "fb4fc0dd-ee1e-44b6-aa8e-9b3e0ab3208b"
      },
      "execution_count": 26,
      "outputs": [
        {
          "output_type": "stream",
          "name": "stdout",
          "text": [
            "Ifaez\n",
            "23\n"
          ]
        }
      ]
    },
    {
      "cell_type": "code",
      "source": [
        "#Looping through class\n",
        "n = int(input(\"Please enter the boundary number: \"))\n",
        "\n",
        "class my_num:\n",
        "  def __iter__(self):\n",
        "    self.m = 0\n",
        "    return self\n",
        "  def __next__(self):\n",
        "    if self.m <= n:\n",
        "      x = self.m\n",
        "      self.m += 2\n",
        "      return x\n",
        "    else:\n",
        "      raise StopIteration\n",
        "\n",
        "my_class = my_num()\n",
        "my_iter = iter(my_class)\n",
        "\n",
        "for x in my_iter:\n",
        "  print(x)"
      ],
      "metadata": {
        "colab": {
          "base_uri": "https://localhost:8080/"
        },
        "id": "Zw3Wb0Ivm6wM",
        "outputId": "b0d1b294-88a3-4fe2-ad09-4b3252333fb2"
      },
      "execution_count": null,
      "outputs": [
        {
          "output_type": "stream",
          "name": "stdout",
          "text": [
            "Please enter the boundary number: 44\n",
            "0\n",
            "2\n",
            "4\n",
            "6\n",
            "8\n",
            "10\n",
            "12\n",
            "14\n",
            "16\n",
            "18\n",
            "20\n",
            "22\n",
            "24\n",
            "26\n",
            "28\n",
            "30\n",
            "32\n",
            "34\n",
            "36\n",
            "38\n",
            "40\n",
            "42\n",
            "44\n"
          ]
        }
      ]
    },
    {
      "cell_type": "code",
      "source": [
        "class Vehicle:\n",
        "  def __init__(self, brand, model):\n",
        "    self.brand = brand\n",
        "    self.model = model\n",
        "\n",
        "class car(Vehicle):\n",
        "  def move(self):\n",
        "    print(\"Drive\")\n",
        "\n",
        "class boat(Vehicle):\n",
        "  def move(self):\n",
        "    print(\"Sail\")\n",
        "\n",
        "class plane(Vehicle):\n",
        "  def move(self):\n",
        "    print(\"Fly\")\n",
        "\n",
        "car_1 = car(\"Toyota\", \"Prius\")\n",
        "boat_1 = boat(\"Pentor\", \"Ebiza\")\n",
        "plane_1 = plane(\"Boeing\", \"777\")\n",
        "\n",
        "for x in (car_1, boat_1, plane_1):\n",
        "  print(x.brand)\n",
        "  print(x.model)\n",
        "  x.move()"
      ],
      "metadata": {
        "colab": {
          "base_uri": "https://localhost:8080/"
        },
        "id": "tCx6bTFPtklm",
        "outputId": "cecde877-7cf6-40d6-f4c6-859fa25b0616"
      },
      "execution_count": null,
      "outputs": [
        {
          "output_type": "stream",
          "name": "stdout",
          "text": [
            "Toyota\n",
            "Prius\n",
            "Drive\n",
            "Pentor\n",
            "Ebiza\n",
            "Sail\n",
            "Boeing\n",
            "777\n",
            "Fly\n"
          ]
        }
      ]
    },
    {
      "cell_type": "code",
      "source": [
        "\"\"\"\n",
        "Write a program to find those numbers which are divisible by 7 and multiples of 5, between any given numbers\n",
        "\"\"\"\n",
        "m = int(input(\"Enter your number: \"))\n",
        "n = int(input(\"Enter your number: \"))\n",
        "array_1 = []\n",
        "\n",
        "for x in range(m, n):\n",
        "  if (x % 7 == 0) and (x % 5 == 0):\n",
        "    array_1.append(str(x))\n",
        "print(\",\".join(array_1))"
      ],
      "metadata": {
        "colab": {
          "base_uri": "https://localhost:8080/"
        },
        "id": "qsxMNYYCyGNc",
        "outputId": "72123ab1-125f-4133-934c-6ea30e3b15d2"
      },
      "execution_count": null,
      "outputs": [
        {
          "output_type": "stream",
          "name": "stdout",
          "text": [
            "Enter your number: 2100\n",
            "Enter ypur number: 4200\n",
            "2100,2135,2170,2205,2240,2275,2310,2345,2380,2415,2450,2485,2520,2555,2590,2625,2660,2695,2730,2765,2800,2835,2870,2905,2940,2975,3010,3045,3080,3115,3150,3185,3220,3255,3290,3325,3360,3395,3430,3465,3500,3535,3570,3605,3640,3675,3710,3745,3780,3815,3850,3885,3920,3955,3990,4025,4060,4095,4130,4165\n"
          ]
        }
      ]
    },
    {
      "cell_type": "code",
      "source": [
        "\"\"\"\n",
        "Write a Python program to construct the following pattern using a nested for loop\n",
        "*\n",
        "**\n",
        "***\n",
        "****\n",
        "***\n",
        "**\n",
        "*\n",
        "\"\"\"\n",
        "n = int(input(\"Enter a positive Integer: \"))\n",
        "\n",
        "for i in range(n):\n",
        "  for j in range(i):\n",
        "    print(\"* \", end = \" \")\n",
        "  print(\" \")\n",
        "\n",
        "for i in range(n, 0, -1):\n",
        "  for j in range(i):\n",
        "    print(\"* \", end = \" \")\n",
        "  print(\" \")"
      ],
      "metadata": {
        "colab": {
          "base_uri": "https://localhost:8080/"
        },
        "id": "ut4wskwA0SiV",
        "outputId": "5aa2c3ed-09cb-4651-f3a6-486e3ee8426e"
      },
      "execution_count": 27,
      "outputs": [
        {
          "output_type": "stream",
          "name": "stdout",
          "text": [
            "Enter a positive Integer: 10\n",
            " \n",
            "*   \n",
            "*  *   \n",
            "*  *  *   \n",
            "*  *  *  *   \n",
            "*  *  *  *  *   \n",
            "*  *  *  *  *  *   \n",
            "*  *  *  *  *  *  *   \n",
            "*  *  *  *  *  *  *  *   \n",
            "*  *  *  *  *  *  *  *  *   \n",
            "*  *  *  *  *  *  *  *  *  *   \n",
            "*  *  *  *  *  *  *  *  *   \n",
            "*  *  *  *  *  *  *  *   \n",
            "*  *  *  *  *  *  *   \n",
            "*  *  *  *  *  *   \n",
            "*  *  *  *  *   \n",
            "*  *  *  *   \n",
            "*  *  *   \n",
            "*  *   \n",
            "*   \n"
          ]
        }
      ]
    },
    {
      "cell_type": "code",
      "source": [
        "def cgpa_calc():\n",
        "  total_score = 0\n",
        "  earned_grade = 0\n",
        "\n",
        "  num_courses = int(input(\"Please enter the number of courses you have taken: \"))\n",
        "  print(\"_______________________________________________\")\n",
        "  for x in range(num_courses):\n",
        "    course_1 = input(\"Enter the name of course: \")\n",
        "    unit_1 = int(input(\"Enter the credit units of course: \"))\n",
        "    score_1 = int(input(\"Enter the score: \"))\n",
        "\n",
        "    total_score += unit_1 * 4\n",
        "\n",
        "    if (score_1 >= 93):\n",
        "      grade = 4\n",
        "    elif (score_1 < 93 and score_1 >= 90):\n",
        "      grade = 3.75\n",
        "    elif (score_1 < 90 and score_1 >= 87):\n",
        "      grade = 3.33\n",
        "    elif (score_1 < 87 and score_1 >= 83):\n",
        "      grade = 3.00\n",
        "    elif (score_1 < 83 and score_1 >= 80):\n",
        "      grade = 2.7\n",
        "    else:\n",
        "      grade = 0\n",
        "\n",
        "    earned_grade += unit_1 * grade\n",
        "\n",
        "    x_gpa = earned_grade / total_score\n",
        "\n",
        "  cgpa = float(x_gpa * 4)\n",
        "  print(\"Your CGPA is \" + str(cgpa))\n",
        "\n",
        "cgpa_calc()"
      ],
      "metadata": {
        "colab": {
          "base_uri": "https://localhost:8080/"
        },
        "id": "KiWRCqSH1sxK",
        "outputId": "a2073633-1f2f-40b8-9826-8d4c7aaf96da"
      },
      "execution_count": 37,
      "outputs": [
        {
          "output_type": "stream",
          "name": "stdout",
          "text": [
            "Please enter the number of courses you have taken: 5\n",
            "_______________________________________________\n",
            "Enter the name of course: FIN435\n",
            "Enter the credit units of course: 3\n",
            "Enter the score: 97\n",
            "Enter the name of course: FIN440\n",
            "Enter the credit units of course: 3\n",
            "Enter the score: 92\n",
            "Enter the name of course: FIN444\n",
            "Enter the credit units of course: 3\n",
            "Enter the score: 98\n",
            "Enter the name of course: FIN433\n",
            "Enter the credit units of course: 3\n",
            "Enter the score: 94\n",
            "Enter the name of course: FIN410\n",
            "Enter the credit units of course: 3\n",
            "Enter the score: 90\n",
            "Your CGPA is 3.9\n"
          ]
        }
      ]
    }
  ]
}